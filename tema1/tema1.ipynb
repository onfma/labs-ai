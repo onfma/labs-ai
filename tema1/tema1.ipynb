{
 "cells": [
  {
   "cell_type": "code",
   "execution_count": 67,
   "metadata": {},
   "outputs": [],
   "source": [
    "from colorama import Fore, init\n",
    "init(autoreset=True)\n",
    "import copy\n",
    "import math\n",
    "import time\n",
    "from numpy import dtype\n",
    "from queue import PriorityQueue\n",
    "import numpy as np\n",
    "from IPython.display import Markdown, display"
   ]
  },
  {
   "cell_type": "markdown",
   "metadata": {},
   "source": [
    "Definim modelarea problemei printr-o matrice de tupluri de 3x3. Pentru modelare definim 2 functii auxiliare pentru transformarea listei initiala in matrice si pentru transformarea matricei inpoi in lista: "
   ]
  },
  {
   "cell_type": "code",
   "execution_count": 52,
   "metadata": {},
   "outputs": [
    {
     "name": "stdout",
     "output_type": "stream",
     "text": [
      "[[(1, False), (5, True), (2, False)], [(7, True), (0, False), (4, True)], [(8, False), (6, True), (3, False)]]\n",
      "[1, 5, 2, 7, 0, 4, 8, 6, 3]\n"
     ]
    }
   ],
   "source": [
    "def model_problem(array):\n",
    "    matrice = [[0, 0, 0], [0, 0, 0], [0, 0, 0]]\n",
    "    for i in range(9):\n",
    "        matrice[i // 3][i % 3] = (array[i], False)\n",
    "        if array[i] == 0:\n",
    "            i_zero = i // 3\n",
    "            j_zero = i % 3\n",
    "    directii = [(i_zero - 1, j_zero), (i_zero + 1, j_zero), (i_zero, j_zero - 1), (i_zero, j_zero + 1)]\n",
    "    for i, j in directii:\n",
    "        if 0 <= i < 3 and 0 <= j < 3:\n",
    "            matrice[i][j] = (matrice[i][j][0], True)\n",
    "    return matrice\n",
    "\n",
    "def model_back(matrice):\n",
    "    a = [0,0,0,0,0,0,0,0,0]\n",
    "    for i in range(3):\n",
    "        for j in range(3):\n",
    "            a[i*3+j] = matrice[i][j][0]\n",
    "    return a\n",
    "\n",
    "\n",
    "#Teste pentru functiile auxiliare\n",
    "initial_array = [1, 5, 2, 7, 0, 4, 8, 6, 3] \n",
    "matrix = model_problem(initial_array)\n",
    "print(model_problem(initial_array))\n",
    "print(model_back(matrix))\n"
   ]
  },
  {
   "cell_type": "markdown",
   "metadata": {},
   "source": [
    "Pe langa acestea am definit 2 functii de printare a unei instante a jocului:"
   ]
  },
  {
   "cell_type": "code",
   "execution_count": 53,
   "metadata": {},
   "outputs": [
    {
     "name": "stdout",
     "output_type": "stream",
     "text": [
      "(1, False)\t(5, True)\t(2, False)\t\n",
      "(7, True)\t(0, False)\t(4, True)\t\n",
      "(8, False)\t(6, True)\t(3, False)\t\n"
     ]
    },
    {
     "data": {
      "text/markdown": [
       "|<span style=\"color:red\">1</span> | <span style=\"color:green\">5</span> | <span style=\"color:red\">2</span> | <br>|<span style=\"color:green\">7</span> | 0 | <span style=\"color:green\">4</span> | <br>|<span style=\"color:red\">8</span> | <span style=\"color:green\">6</span> | <span style=\"color:red\">3</span> | <br>"
      ],
      "text/plain": [
       "<IPython.core.display.Markdown object>"
      ]
     },
     "metadata": {},
     "output_type": "display_data"
    }
   ],
   "source": [
    "def print_matrix(matrix):\n",
    "    for row in matrix:\n",
    "        for element in row:\n",
    "            print(element, end='\\t')\n",
    "        print() \n",
    "\n",
    "def print_game(matrix):\n",
    "    output = \"\"\n",
    "    for row in matrix:\n",
    "        output += '|'\n",
    "        for element in row:\n",
    "            if element[1]:\n",
    "                color = f'<span style=\"color:green\">{element[0]}</span>'\n",
    "                output += f\"{color} | \"\n",
    "            elif element[0] == 0:\n",
    "                output += '0 | '\n",
    "            else:\n",
    "                color = f'<span style=\"color:red\">{element[0]}</span>'\n",
    "                output += f\"{color} | \"\n",
    "        output += \"<br>\"  # Add line break for the next row\n",
    "    display(Markdown(output))\n",
    "\n",
    "\n",
    "print_matrix(matrix)\n",
    "print_game(matrix)\n"
   ]
  },
  {
   "cell_type": "markdown",
   "metadata": {},
   "source": [
    "Tot ca functii auxiliare am definit 2 functii meniite sa gaseasca pozitia unui numar in joc respectiv pozitia celulei goale din joc"
   ]
  },
  {
   "cell_type": "code",
   "execution_count": 54,
   "metadata": {},
   "outputs": [
    {
     "name": "stdout",
     "output_type": "stream",
     "text": [
      "(2, 1)\n",
      "(1, 1)\n"
     ]
    }
   ],
   "source": [
    "# returneaza pozitia valorii n din matricea de joc sub forma de tuplu (i,j)\n",
    "def find_positions(matrice, n):\n",
    "    for i in range(3):\n",
    "        for j in range(3):\n",
    "            if matrice[i][j][0] == n:\n",
    "                return (i, j)\n",
    "                      \n",
    "# returneaza pozitia valorii 0 din matricea de joc\n",
    "def find_zero(matrice):\n",
    "    for i in range(3):\n",
    "        for j in range(3):\n",
    "            if matrice[i][j][0] == 0:\n",
    "                return (i, j)\n",
    "print(find_positions(matrix,6))\n",
    "print(find_zero(matrix))"
   ]
  },
  {
   "cell_type": "markdown",
   "metadata": {},
   "source": [
    "Identificarea starilor speciale se face cu functiile verificare_stare_initiala si verificare_stare_finala"
   ]
  },
  {
   "cell_type": "code",
   "execution_count": 55,
   "metadata": {},
   "outputs": [],
   "source": [
    "def verificare_stare_finala(matrice):\n",
    "    flattened_matrix = [matrice[i][j][0] for i in range(3) for j in range(3)]\n",
    "    flattened_matrix.remove(0)\n",
    "    return flattened_matrix == sorted(flattened_matrix)\n",
    "\n",
    "def verificare_stare_initiala(matrice):\n",
    "    array = model_back(matrice)\n",
    "    if array == initial_array:\n",
    "        return True\n",
    "    else:\n",
    "        return False\n"
   ]
  },
  {
   "cell_type": "markdown",
   "metadata": {},
   "source": [
    "Tranzitiile sunt implementate cu ajutorul functiei de tranzitie care are ca parametrii matricea in care dorim sa jucam si numarul celulei de mutat. Functia de tranzitie se foloseste de o functie de validare a tranzitiei (care verifica daca flagul celulei de mutat e True) iar apoi muta celula cu numarul primit ca paramentru in spatiul liber unic in joc."
   ]
  },
  {
   "cell_type": "code",
   "execution_count": 56,
   "metadata": {},
   "outputs": [
    {
     "data": {
      "text/markdown": [
       "|<span style=\"color:red\">8</span> | <span style=\"color:red\">6</span> | <span style=\"color:red\">7</span> | <br>|<span style=\"color:green\">2</span> | <span style=\"color:red\">5</span> | <span style=\"color:red\">4</span> | <br>|0 | <span style=\"color:green\">3</span> | <span style=\"color:red\">1</span> | <br>"
      ],
      "text/plain": [
       "<IPython.core.display.Markdown object>"
      ]
     },
     "metadata": {},
     "output_type": "display_data"
    },
    {
     "name": "stdout",
     "output_type": "stream",
     "text": [
      "Matrice dupa ce apelam tranzitie(matrice, 3):\n"
     ]
    },
    {
     "data": {
      "text/markdown": [
       "|<span style=\"color:red\">8</span> | <span style=\"color:red\">6</span> | <span style=\"color:red\">7</span> | <br>|<span style=\"color:red\">2</span> | <span style=\"color:green\">5</span> | <span style=\"color:red\">4</span> | <br>|<span style=\"color:red\">3</span> | 0 | <span style=\"color:green\">1</span> | <br>"
      ],
      "text/plain": [
       "<IPython.core.display.Markdown object>"
      ]
     },
     "metadata": {},
     "output_type": "display_data"
    }
   ],
   "source": [
    "# returneaza valoarea flag-ului (true/false) pt valoarea n\n",
    "def validare_tranzitie(matrice, n):\n",
    "    return matrice[find_positions(matrice, n)[0]][find_positions(matrice, n)[1]][1]\n",
    "\n",
    "# functie care face tranzitia nr n in locul null\n",
    "def tranzitie(matrice, n):\n",
    "    m = copy.deepcopy(matrice)\n",
    "    i, j = find_positions(matrice, n)\n",
    "    i0, j0 = find_zero(matrice)\n",
    "    if matrice[i][j][1]:\n",
    "        # actualizarea flag-urilor pt vechile valor care nu mai pot si mutate\n",
    "        directii = [(i0 - 1, j0), (i0 + 1, j0), (i0, j0 - 1), (i0, j0 + 1)]\n",
    "        for ii, jj in directii:\n",
    "            if 0 <= ii < 3 and 0 <= jj < 3 and m[ii][jj][0] != n:\n",
    "                m[ii][jj] = (m[ii][jj][0], False)\n",
    "\n",
    "        # actualizare flag-uri pt noile valori care pot fi mutate (vecinii lui n)\n",
    "        directii = [(i - 1, j), (i + 1, j), (i, j - 1), (i, j + 1)]\n",
    "        for ii, jj in directii:\n",
    "            if 0 <= ii < 3 and 0 <= jj < 3 and m[ii][jj][0] != 0:\n",
    "                m[ii][jj] = (m[ii][jj][0], True)\n",
    "        # actualizarea pozitie pt n & null\n",
    "        m[i0][j0] = (n, False)\n",
    "        m[i][j] = (0, False)\n",
    "        return m\n",
    "\n",
    "    else:\n",
    "        print(\"tranzitie nepermisa\")\n",
    "        print_game(m)\n",
    "        print(n)\n",
    "\n",
    "m = model_problem( [8, 6, 7, 2, 5, 4, 0, 3, 1])\n",
    "print_game(m)\n",
    "x = tranzitie(m, 3)\n",
    "print(\"Matrice dupa ce apelam tranzitie(matrice, 3):\")\n",
    "print_game(x)"
   ]
  },
  {
   "cell_type": "markdown",
   "metadata": {},
   "source": [
    "In final definim functia de IDDFS search care itereaza toate stagiile posibile in care poate ajunge jocul intr-un numar maxim de miscari si returneaza sirul de miscari necesare pentru a ajunge in starea finala prin cel mai mic numar de pasi."
   ]
  },
  {
   "cell_type": "code",
   "execution_count": 57,
   "metadata": {},
   "outputs": [],
   "source": [
    "def IDDFS_search(matrice, maxSteps):\n",
    "    nthStepDict = {tuple(tuple(row) for row in matrice): []}\n",
    "    step = 0\n",
    "\n",
    "    while step <= maxSteps:\n",
    "        nextStepDict = {}\n",
    "        step += 1\n",
    "\n",
    "        for m, moveList in nthStepDict.items():\n",
    "            for cell in  [m[i][j][0] for i in range(3) for j in range(3) if m[i][j][1]]:\n",
    "                moveMatrix  = tranzitie(list(list(row) for row in m), cell)\n",
    "\n",
    "                if verificare_stare_finala(moveMatrix):\n",
    "                    return moveList + [cell]\n",
    "                \n",
    "                nextStepDict[tuple(tuple(row) for row in moveMatrix )] = moveList + [cell]\n",
    "\n",
    "        nthStepDict = nextStepDict\n",
    "\n",
    "    return \"Limita de pasi atinsa\""
   ]
  },
  {
   "cell_type": "markdown",
   "metadata": {},
   "source": [
    "Testam codul pe cateva variante de joc generate si rezolavte de https://deniz.co/8-puzzle-solver/"
   ]
  },
  {
   "cell_type": "code",
   "execution_count": 58,
   "metadata": {},
   "outputs": [
    {
     "data": {
      "text/markdown": [
       "|<span style=\"color:red\">2</span> | <span style=\"color:red\">5</span> | <span style=\"color:red\">3</span> | <br>|<span style=\"color:red\">1</span> | <span style=\"color:green\">7</span> | <span style=\"color:red\">6</span> | <br>|<span style=\"color:green\">4</span> | 0 | <span style=\"color:green\">8</span> | <br>"
      ],
      "text/plain": [
       "<IPython.core.display.Markdown object>"
      ]
     },
     "metadata": {},
     "output_type": "display_data"
    },
    {
     "name": "stdout",
     "output_type": "stream",
     "text": [
      "[7, 5, 2, 1, 4]\n"
     ]
    },
    {
     "data": {
      "text/markdown": [
       "|<span style=\"color:red\">1</span> | <span style=\"color:green\">5</span> | <span style=\"color:red\">2</span> | <br>|<span style=\"color:green\">7</span> | 0 | <span style=\"color:green\">4</span> | <br>|<span style=\"color:red\">8</span> | <span style=\"color:green\">6</span> | <span style=\"color:red\">3</span> | <br>"
      ],
      "text/plain": [
       "<IPython.core.display.Markdown object>"
      ]
     },
     "metadata": {},
     "output_type": "display_data"
    },
    {
     "name": "stdout",
     "output_type": "stream",
     "text": [
      "[4, 3, 6, 8, 7, 4, 5, 2, 3, 6]\n"
     ]
    },
    {
     "data": {
      "text/markdown": [
       "|<span style=\"color:red\">8</span> | <span style=\"color:red\">6</span> | <span style=\"color:red\">7</span> | <br>|<span style=\"color:green\">2</span> | <span style=\"color:red\">5</span> | <span style=\"color:red\">4</span> | <br>|0 | <span style=\"color:green\">3</span> | <span style=\"color:red\">1</span> | <br>"
      ],
      "text/plain": [
       "<IPython.core.display.Markdown object>"
      ]
     },
     "metadata": {},
     "output_type": "display_data"
    },
    {
     "name": "stdout",
     "output_type": "stream",
     "text": [
      "[2, 8, 6, 5, 3, 1, 4, 7, 5, 3, 1, 2, 8, 6, 3, 1, 2, 8, 6, 3, 1, 2, 7, 4, 8, 7, 4, 5]\n"
     ]
    },
    {
     "data": {
      "text/markdown": [
       "|<span style=\"color:green\">2</span> | <span style=\"color:red\">7</span> | <span style=\"color:red\">5</span> | <br>|0 | <span style=\"color:green\">8</span> | <span style=\"color:red\">4</span> | <br>|<span style=\"color:green\">3</span> | <span style=\"color:red\">1</span> | <span style=\"color:red\">6</span> | <br>"
      ],
      "text/plain": [
       "<IPython.core.display.Markdown object>"
      ]
     },
     "metadata": {},
     "output_type": "display_data"
    },
    {
     "name": "stdout",
     "output_type": "stream",
     "text": [
      "[2, 7, 5, 4, 8, 1, 6, 8, 4, 5, 1, 2, 7, 1, 2, 7, 3, 6, 7, 4, 5]\n"
     ]
    }
   ],
   "source": [
    "\n",
    "stateList = [2, 5, 3, 1, 7, 6, 4, 0, 8]\n",
    "matrix = model_problem(stateList)\n",
    "print_game(matrix)\n",
    "print(IDDFS_search(matrix, 100))\n",
    " \n",
    "stateList = [1, 5, 2, 7, 0, 4, 8, 6, 3]\n",
    "matrix = model_problem(stateList)\n",
    "print_game(matrix)\n",
    "print(IDDFS_search(matrix, 100))\n",
    "\n",
    "stateList = [8, 6, 7, 2, 5, 4, 0, 3, 1]\n",
    "matrix = model_problem(stateList)\n",
    "print_game(matrix)\n",
    "print(IDDFS_search(matrix, 100))\n",
    "\n",
    "stateList = [2, 7, 5, 0, 8, 4, 3, 1, 6]\n",
    "matrix = model_problem(stateList)\n",
    "print_game(matrix)\n",
    "print(IDDFS_search(matrix, 100))\n"
   ]
  },
  {
   "cell_type": "markdown",
   "metadata": {},
   "source": [
    "Calculul miscarilor pe baza principiului greedy cu euristica Manhatten distance (suma dintre distanta fiecarie celule pana la pozitia in jocul sortat)"
   ]
  },
  {
   "cell_type": "code",
   "execution_count": 59,
   "metadata": {},
   "outputs": [],
   "source": [
    "def manhattan_distance(matrix):\n",
    "    distance = 0\n",
    "    for i in range(3):\n",
    "        for j in range(3):\n",
    "            if matrix[i][j][0] != 0:\n",
    "                x, y = (matrix[i][j][0] - 1) // 3, (matrix[i][j][0] - 1) % 3\n",
    "                distance += abs(x - i) + abs(y - j)\n",
    "    return distance\n",
    "\n",
    "def greedy_manhattan(matrice, stepLimit):\n",
    "    moves = []\n",
    "    step = 0\n",
    "    while not verificare_stare_finala(matrice) and step < stepLimit:\n",
    "        step += 1\n",
    "        min_distance = float('inf')\n",
    "        cell = [matrice[i][j][0] for i in range(3) for j in range(3) if matrice[i][j][1]][-1]\n",
    "        for c in [matrice[i][j][0] for i in range(3) for j in range(3) if matrice[i][j][1]]:\n",
    "            distance = manhattan_distance(tranzitie(matrice, c))\n",
    "            if distance < min_distance:\n",
    "                reserve = cell\n",
    "                min_distance = distance\n",
    "                cell = c\n",
    "        if len(moves) > 10:\n",
    "            for i in range(2, 10):\n",
    "                rep = []\n",
    "                for _ in range(i):\n",
    "                    rep += moves[-i:]\n",
    "                if(moves[-i*i:] == rep and reserve != 0):\n",
    "                    del moves[-i*i:]\n",
    "                    cell = reserve\n",
    "        matrice = tranzitie(matrice, cell)\n",
    "        moves.append(cell)\n",
    "    if step == stepLimit:\n",
    "        return \"Limita de pasi atinsa\"\n",
    "    else:\n",
    "        return moves"
   ]
  },
  {
   "cell_type": "code",
   "execution_count": 60,
   "metadata": {},
   "outputs": [
    {
     "data": {
      "text/markdown": [
       "|<span style=\"color:red\">2</span> | <span style=\"color:red\">5</span> | <span style=\"color:red\">3</span> | <br>|<span style=\"color:red\">1</span> | <span style=\"color:green\">7</span> | <span style=\"color:red\">6</span> | <br>|<span style=\"color:green\">4</span> | 0 | <span style=\"color:green\">8</span> | <br>"
      ],
      "text/plain": [
       "<IPython.core.display.Markdown object>"
      ]
     },
     "metadata": {},
     "output_type": "display_data"
    },
    {
     "name": "stdout",
     "output_type": "stream",
     "text": [
      "[7, 5, 2, 1, 4]\n"
     ]
    },
    {
     "data": {
      "text/markdown": [
       "|<span style=\"color:red\">1</span> | <span style=\"color:green\">5</span> | <span style=\"color:red\">2</span> | <br>|<span style=\"color:green\">7</span> | 0 | <span style=\"color:green\">4</span> | <br>|<span style=\"color:red\">8</span> | <span style=\"color:green\">6</span> | <span style=\"color:red\">3</span> | <br>"
      ],
      "text/plain": [
       "<IPython.core.display.Markdown object>"
      ]
     },
     "metadata": {},
     "output_type": "display_data"
    },
    {
     "name": "stdout",
     "output_type": "stream",
     "text": [
      "[5, 2, 4, 3, 6, 8, 7, 1, 2, 4, 3, 6, 8, 5, 4, 2, 1, 4, 5]\n"
     ]
    },
    {
     "data": {
      "text/markdown": [
       "|<span style=\"color:red\">8</span> | <span style=\"color:red\">6</span> | <span style=\"color:red\">7</span> | <br>|<span style=\"color:green\">2</span> | <span style=\"color:red\">5</span> | <span style=\"color:red\">4</span> | <br>|0 | <span style=\"color:green\">3</span> | <span style=\"color:red\">1</span> | <br>"
      ],
      "text/plain": [
       "<IPython.core.display.Markdown object>"
      ]
     },
     "metadata": {},
     "output_type": "display_data"
    },
    {
     "name": "stdout",
     "output_type": "stream",
     "text": [
      "[2, 8, 6, 7, 4, 1, 3, 2, 8, 6, 7, 4, 1, 3, 2, 8, 6, 7, 4, 1, 3, 2, 8, 6, 7, 4, 1, 3, 2, 5, 6, 8, 5, 6, 3, 2, 4, 6, 2, 1, 6, 4, 5, 8, 4, 6, 1, 2, 3, 5, 6, 4, 8, 6, 5, 3, 2, 1, 4, 5, 6]\n"
     ]
    },
    {
     "data": {
      "text/markdown": [
       "|<span style=\"color:green\">2</span> | <span style=\"color:red\">7</span> | <span style=\"color:red\">5</span> | <br>|0 | <span style=\"color:green\">8</span> | <span style=\"color:red\">4</span> | <br>|<span style=\"color:green\">3</span> | <span style=\"color:red\">1</span> | <span style=\"color:red\">6</span> | <br>"
      ],
      "text/plain": [
       "<IPython.core.display.Markdown object>"
      ]
     },
     "metadata": {},
     "output_type": "display_data"
    },
    {
     "name": "stdout",
     "output_type": "stream",
     "text": [
      "Limita de pasi atinsa\n"
     ]
    }
   ],
   "source": [
    "stateList = [2, 5, 3, 1, 7, 6, 4, 0, 8]\n",
    "matrix = model_problem(stateList)\n",
    "print_game(matrix)\n",
    "print(greedy_manhattan(matrix, 200))\n",
    " \n",
    "stateList = [1, 5, 2, 7, 0, 4, 8, 6, 3]\n",
    "matrix = model_problem(stateList)\n",
    "print_game(matrix)\n",
    "print(greedy_manhattan(matrix, 200))\n",
    "\n",
    "stateList = [8, 6, 7, 2, 5, 4, 0, 3, 1]\n",
    "matrix = model_problem(stateList)\n",
    "print_game(matrix)\n",
    "print(greedy_manhattan(matrix, 200))\n",
    "\n",
    "stateList = [2, 7, 5, 0, 8, 4, 3, 1, 6]\n",
    "matrix = model_problem(stateList)\n",
    "print_game(matrix)\n",
    "print(greedy_manhattan(matrix, 200))"
   ]
  },
  {
   "cell_type": "markdown",
   "metadata": {},
   "source": [
    "Calculul miscarilor pe baza principiului greedy cu euristica Hamming distance(cate elemente sunt plasate gresit in raport cu starea finala)"
   ]
  },
  {
   "cell_type": "code",
   "execution_count": 61,
   "metadata": {},
   "outputs": [],
   "source": [
    "def hamming_distance(matrix):\n",
    "    distance = 0\n",
    "    for i in range(3):\n",
    "        for j in range(3):\n",
    "            if matrix[i][j][0] != 0 and matrix[i][j][0] != 3 * i + j + 1: #se verifica daca elementul este pe pozitia corecta deja\n",
    "                distance += 1\n",
    "    return distance\n",
    "\n",
    "def greedy_hamming(matrice, stepLimit):\n",
    "    moves = []\n",
    "    step = 0\n",
    "    while not verificare_stare_finala(matrice) and step < stepLimit:\n",
    "        step += 1\n",
    "        min_distance = float('inf')\n",
    "        cell = [matrice[i][j][0] for i in range(3) for j in range(3) if matrice[i][j][1]][-1]\n",
    "        for c in [matrice[i][j][0] for i in range(3) for j in range(3) if matrice[i][j][1]]:\n",
    "            distance = hamming_distance(tranzitie(matrice, c))\n",
    "            if distance < min_distance:\n",
    "                reserve = cell\n",
    "                min_distance = distance\n",
    "                cell = c\n",
    "        if len(moves) > 10:\n",
    "            for i in range(2, 10):\n",
    "                rep = []\n",
    "                for _ in range(i):\n",
    "                    rep += moves[-i:]\n",
    "                if (moves[-i * i:] == rep and reserve != 0):\n",
    "                    del moves[-i * i:]\n",
    "                    cell = reserve\n",
    "        matrice = tranzitie(matrice, cell)\n",
    "        moves.append(cell)\n",
    "\n",
    "    if step == stepLimit:\n",
    "        return \"Limita de pasi atinsa\"\n",
    "    else:\n",
    "        return moves\n",
    "    "
   ]
  },
  {
   "cell_type": "code",
   "execution_count": 62,
   "metadata": {},
   "outputs": [
    {
     "data": {
      "text/markdown": [
       "|<span style=\"color:red\">2</span> | <span style=\"color:red\">5</span> | <span style=\"color:red\">3</span> | <br>|<span style=\"color:red\">1</span> | <span style=\"color:green\">7</span> | <span style=\"color:red\">6</span> | <br>|<span style=\"color:green\">4</span> | 0 | <span style=\"color:green\">8</span> | <br>"
      ],
      "text/plain": [
       "<IPython.core.display.Markdown object>"
      ]
     },
     "metadata": {},
     "output_type": "display_data"
    },
    {
     "name": "stdout",
     "output_type": "stream",
     "text": [
      "Limita de pasi atinsa\n"
     ]
    },
    {
     "data": {
      "text/markdown": [
       "|<span style=\"color:red\">1</span> | <span style=\"color:green\">5</span> | <span style=\"color:red\">2</span> | <br>|<span style=\"color:green\">7</span> | 0 | <span style=\"color:green\">4</span> | <br>|<span style=\"color:red\">8</span> | <span style=\"color:green\">6</span> | <span style=\"color:red\">3</span> | <br>"
      ],
      "text/plain": [
       "<IPython.core.display.Markdown object>"
      ]
     },
     "metadata": {},
     "output_type": "display_data"
    },
    {
     "name": "stdout",
     "output_type": "stream",
     "text": [
      "[5, 2, 4, 3, 6, 8, 7, 1, 2, 4, 3, 6, 8, 5, 4, 2, 1, 4, 5]\n"
     ]
    },
    {
     "data": {
      "text/markdown": [
       "|<span style=\"color:red\">8</span> | <span style=\"color:red\">6</span> | <span style=\"color:red\">7</span> | <br>|<span style=\"color:green\">2</span> | <span style=\"color:red\">5</span> | <span style=\"color:red\">4</span> | <br>|0 | <span style=\"color:green\">3</span> | <span style=\"color:red\">1</span> | <br>"
      ],
      "text/plain": [
       "<IPython.core.display.Markdown object>"
      ]
     },
     "metadata": {},
     "output_type": "display_data"
    },
    {
     "name": "stdout",
     "output_type": "stream",
     "text": [
      "Limita de pasi atinsa\n"
     ]
    },
    {
     "data": {
      "text/markdown": [
       "|<span style=\"color:green\">2</span> | <span style=\"color:red\">7</span> | <span style=\"color:red\">5</span> | <br>|0 | <span style=\"color:green\">8</span> | <span style=\"color:red\">4</span> | <br>|<span style=\"color:green\">3</span> | <span style=\"color:red\">1</span> | <span style=\"color:red\">6</span> | <br>"
      ],
      "text/plain": [
       "<IPython.core.display.Markdown object>"
      ]
     },
     "metadata": {},
     "output_type": "display_data"
    },
    {
     "name": "stdout",
     "output_type": "stream",
     "text": [
      "Limita de pasi atinsa\n"
     ]
    }
   ],
   "source": [
    "stateList = [2, 5, 3, 1, 7, 6, 4, 0, 8]\n",
    "matrix = model_problem(stateList)\n",
    "print_game(matrix)\n",
    "print(greedy_hamming(matrix, 200))\n",
    " \n",
    "stateList = [1, 5, 2, 7, 0, 4, 8, 6, 3]\n",
    "matrix = model_problem(stateList)\n",
    "print_game(matrix)\n",
    "print(greedy_hamming(matrix, 200))\n",
    "\n",
    "stateList = [8, 6, 7, 2, 5, 4, 0, 3, 1]\n",
    "matrix = model_problem(stateList)\n",
    "print_game(matrix)\n",
    "print(greedy_hamming(matrix, 200))\n",
    "\n",
    "stateList = [2, 7, 5, 0, 8, 4, 3, 1, 6]\n",
    "matrix = model_problem(stateList)\n",
    "print_game(matrix)\n",
    "print(greedy_hamming(matrix, 200))"
   ]
  },
  {
   "cell_type": "markdown",
   "metadata": {},
   "source": [
    "Calculul miscarilor pe baza principiului greedy cu euristica Euclideana (calculează distanța dintre pozițiile actuale ale elementelor și pozițiile corecte ale acestora utilizând formula distanței euclidiene)"
   ]
  },
  {
   "cell_type": "code",
   "execution_count": 63,
   "metadata": {},
   "outputs": [],
   "source": [
    "def euclidean_distance(matrix):\n",
    "    distance = 0\n",
    "    for i in range(3):\n",
    "        for j in range(3):\n",
    "            if matrix[i][j][0] != 0:\n",
    "                x, y = (matrix[i][j][0] - 1) // 3, (matrix[i][j][0] - 1) % 3\n",
    "                dx = x - i\n",
    "                dy = y - j\n",
    "                distance += math.sqrt(dx**2 + dy**2)\n",
    "    return distance\n",
    "\n",
    "def greedy_euclidean(matrice, stepLimit):\n",
    "    moves = []\n",
    "    step = 0\n",
    "    while not verificare_stare_finala(matrice) and step < stepLimit:\n",
    "        step += 1\n",
    "        min_distance = float('inf')\n",
    "        cell = [matrice[i][j][0] for i in range(3) for j in range(3) if matrice[i][j][1]][-1]\n",
    "        for c in [matrice[i][j][0] for i in range(3) for j in range(3) if matrice[i][j][1]]:\n",
    "            distance = euclidean_distance(tranzitie(matrice, c))\n",
    "            if distance < min_distance:\n",
    "                reserve = cell\n",
    "                min_distance = distance\n",
    "                cell = c\n",
    "        if len(moves) > 10:\n",
    "            for i in range(2, 10):\n",
    "                rep = []\n",
    "                for _ in range(i):\n",
    "                    rep += moves[-i:]\n",
    "                if (moves[-i * i:] == rep and reserve != 0):\n",
    "                    del moves[-i * i:]\n",
    "                    cell = reserve\n",
    "        matrice = tranzitie(matrice, cell)\n",
    "        moves.append(cell)\n",
    "\n",
    "    if step == stepLimit:\n",
    "        return \"Limita de pasi atinsa\"\n",
    "    else:\n",
    "        return moves"
   ]
  },
  {
   "cell_type": "code",
   "execution_count": 64,
   "metadata": {},
   "outputs": [
    {
     "data": {
      "text/markdown": [
       "|<span style=\"color:red\">2</span> | <span style=\"color:red\">5</span> | <span style=\"color:red\">3</span> | <br>|<span style=\"color:red\">1</span> | <span style=\"color:green\">7</span> | <span style=\"color:red\">6</span> | <br>|<span style=\"color:green\">4</span> | 0 | <span style=\"color:green\">8</span> | <br>"
      ],
      "text/plain": [
       "<IPython.core.display.Markdown object>"
      ]
     },
     "metadata": {},
     "output_type": "display_data"
    },
    {
     "name": "stdout",
     "output_type": "stream",
     "text": [
      "Limita de pasi atinsa\n"
     ]
    },
    {
     "data": {
      "text/markdown": [
       "|<span style=\"color:red\">1</span> | <span style=\"color:green\">5</span> | <span style=\"color:red\">2</span> | <br>|<span style=\"color:green\">7</span> | 0 | <span style=\"color:green\">4</span> | <br>|<span style=\"color:red\">8</span> | <span style=\"color:green\">6</span> | <span style=\"color:red\">3</span> | <br>"
      ],
      "text/plain": [
       "<IPython.core.display.Markdown object>"
      ]
     },
     "metadata": {},
     "output_type": "display_data"
    },
    {
     "name": "stdout",
     "output_type": "stream",
     "text": [
      "[5, 2, 4, 3, 6, 8, 7, 1, 2, 4, 3, 6, 8, 5, 4, 2, 1, 4, 5]\n"
     ]
    },
    {
     "data": {
      "text/markdown": [
       "|<span style=\"color:red\">8</span> | <span style=\"color:red\">6</span> | <span style=\"color:red\">7</span> | <br>|<span style=\"color:green\">2</span> | <span style=\"color:red\">5</span> | <span style=\"color:red\">4</span> | <br>|0 | <span style=\"color:green\">3</span> | <span style=\"color:red\">1</span> | <br>"
      ],
      "text/plain": [
       "<IPython.core.display.Markdown object>"
      ]
     },
     "metadata": {},
     "output_type": "display_data"
    },
    {
     "name": "stdout",
     "output_type": "stream",
     "text": [
      "[3, 1, 4, 7, 6, 8, 2, 3, 1, 4, 7, 6, 8, 2, 3, 1, 4, 7, 6, 8, 2, 3, 1, 4, 7, 6, 8, 2, 3, 1, 4, 5, 2, 8, 6, 2, 5, 4, 1, 3, 8, 6, 2, 5, 3, 8, 6, 2, 5, 3, 8, 6, 2, 5, 3, 8, 5, 3, 8, 5, 6, 2, 3, 6, 5]\n"
     ]
    },
    {
     "data": {
      "text/markdown": [
       "|<span style=\"color:green\">2</span> | <span style=\"color:red\">7</span> | <span style=\"color:red\">5</span> | <br>|0 | <span style=\"color:green\">8</span> | <span style=\"color:red\">4</span> | <br>|<span style=\"color:green\">3</span> | <span style=\"color:red\">1</span> | <span style=\"color:red\">6</span> | <br>"
      ],
      "text/plain": [
       "<IPython.core.display.Markdown object>"
      ]
     },
     "metadata": {},
     "output_type": "display_data"
    },
    {
     "name": "stdout",
     "output_type": "stream",
     "text": [
      "Limita de pasi atinsa\n"
     ]
    }
   ],
   "source": [
    "stateList = [2, 5, 3, 1, 7, 6, 4, 0, 8]\n",
    "matrix = model_problem(stateList)\n",
    "print_game(matrix)\n",
    "print(greedy_euclidean(matrix, 500))\n",
    " \n",
    "stateList = [1, 5, 2, 7, 0, 4, 8, 6, 3]\n",
    "matrix = model_problem(stateList)\n",
    "print_game(matrix)\n",
    "print(greedy_euclidean(matrix, 500))\n",
    "\n",
    "stateList = [8, 6, 7, 2, 5, 4, 0, 3, 1]\n",
    "matrix = model_problem(stateList)\n",
    "print_game(matrix)\n",
    "print(greedy_euclidean(matrix, 500))\n",
    "\n",
    "stateList = [2, 7, 5, 0, 8, 4, 3, 1, 6]\n",
    "matrix = model_problem(stateList)\n",
    "print_game(matrix)\n",
    "print(greedy_euclidean(matrix, 500))"
   ]
  },
  {
   "cell_type": "markdown",
   "metadata": {},
   "source": [
    "#6 programul care ruleaza toate strategiile"
   ]
  },
  {
   "cell_type": "code",
   "execution_count": 65,
   "metadata": {},
   "outputs": [],
   "source": [
    "def all_strategies(matrix):\n",
    "    print_game(matrix)\n",
    "    start_time = time.time()\n",
    "    rez_IDDFS = IDDFS_search(matrix, 40)\n",
    "    end_time = time.time()\n",
    "    execution_time_IDDFS = end_time - start_time\n",
    "    if(rez_IDDFS == \"Limita de pasi atinsa\"):\n",
    "        print(\"Solution not found with IDDFS in a 40 move limit\")\n",
    "    else:\n",
    "        print(\"Solution found with IDDFS: \" + str(rez_IDDFS) + \" with a length of : \" + str(len(rez_IDDFS)))\n",
    "    print(\"Execution time : \" + str(execution_time_IDDFS) + \" seconds\")\n",
    "\n",
    "    print()\n",
    "    \n",
    "    start_time = time.time()\n",
    "    rez_Manhatten = greedy_manhattan(matrix, 200)\n",
    "    end_time = time.time()\n",
    "    execution_time_Manhatten = end_time - start_time\n",
    "    if(rez_Manhatten == \"Limita de pasi atinsa\"):\n",
    "        print(\"Solution not found with Manhatten heuristic in a 200 move limit\")\n",
    "    else:\n",
    "        print(\"Solution found with Manhatten heuristic: \" + str(rez_Manhatten) + \" with a length of : \" + str(len(rez_Manhatten)))\n",
    "    print(\"Execution time : \" + str(execution_time_Manhatten) + \" seconds\")\n",
    "\n",
    "    print()\n",
    "\n",
    "    start_time = time.time()\n",
    "    rez_Hamming = greedy_hamming(matrix, 200)\n",
    "    end_time = time.time()\n",
    "    execution_time_Hamming = end_time - start_time\n",
    "    if(rez_Hamming == \"Limita de pasi atinsa\"):\n",
    "        print(\"Solution not found with Hamming heuristic in a 200 move limit\")\n",
    "    else:\n",
    "        print(\"Solution found with Hamming heuristic: \" + str(rez_Hamming) + \" with a length  of : \" + str(len(rez_Hamming)))\n",
    "    print(\"Execution time : \" + str(execution_time_Hamming) + \" seconds\")\n",
    "\n",
    "    print()\n",
    "\n",
    "    start_time = time.time()\n",
    "    rez_Custom = greedy_euclidean(matrix, 200)\n",
    "    end_time = time.time()\n",
    "    execution_time_Custom = end_time - start_time\n",
    "    if(rez_Custom == \"Limita de pasi atinsa\"):\n",
    "        print(\"Solution not found with Custom heuristic in a 200 move limit\")\n",
    "    else:\n",
    "        print(\"Solution found with Custom heuristic: \" + str(rez_Custom) + \" with a length of : \" + str(len(rez_Custom)))\n",
    "    print(\"Execution time : \" + str(execution_time_Custom) + \" seconds\")\n"
   ]
  },
  {
   "cell_type": "code",
   "execution_count": 66,
   "metadata": {},
   "outputs": [
    {
     "data": {
      "text/markdown": [
       "|<span style=\"color:red\">2</span> | <span style=\"color:red\">5</span> | <span style=\"color:red\">3</span> | <br>|<span style=\"color:red\">1</span> | <span style=\"color:green\">7</span> | <span style=\"color:red\">6</span> | <br>|<span style=\"color:green\">4</span> | 0 | <span style=\"color:green\">8</span> | <br>"
      ],
      "text/plain": [
       "<IPython.core.display.Markdown object>"
      ]
     },
     "metadata": {},
     "output_type": "display_data"
    },
    {
     "name": "stdout",
     "output_type": "stream",
     "text": [
      "Solution found with IDDFS: [7, 5, 2, 1, 4] with a length of : 5\n",
      "Execution time : 0.000997781753540039 seconds\n",
      "\n",
      "Solution found with Manhatten heuristic: [7, 5, 2, 1, 4] with a length of : 5\n",
      "Execution time : 0.0 seconds\n",
      "\n",
      "Solution not found with Hamming heuristic in a 200 move limit\n",
      "Execution time : 0.01750946044921875 seconds\n",
      "\n",
      "Solution not found with Custom heuristic in a 200 move limit\n",
      "Execution time : 0.02699756622314453 seconds\n"
     ]
    },
    {
     "data": {
      "text/markdown": [
       "|<span style=\"color:red\">1</span> | <span style=\"color:green\">5</span> | <span style=\"color:red\">2</span> | <br>|<span style=\"color:green\">7</span> | 0 | <span style=\"color:green\">4</span> | <br>|<span style=\"color:red\">8</span> | <span style=\"color:green\">6</span> | <span style=\"color:red\">3</span> | <br>"
      ],
      "text/plain": [
       "<IPython.core.display.Markdown object>"
      ]
     },
     "metadata": {},
     "output_type": "display_data"
    },
    {
     "name": "stdout",
     "output_type": "stream",
     "text": [
      "Solution found with IDDFS: [4, 3, 6, 8, 7, 4, 5, 2, 3, 6] with a length of : 10\n",
      "Execution time : 0.0453343391418457 seconds\n",
      "\n",
      "Solution found with Manhatten heuristic: [5, 2, 4, 3, 6, 8, 7, 1, 2, 4, 3, 6, 8, 5, 4, 2, 1, 4, 5] with a length of : 19\n",
      "Execution time : 0.002064228057861328 seconds\n",
      "\n",
      "Solution found with Hamming heuristic: [5, 2, 4, 3, 6, 8, 7, 1, 2, 4, 3, 6, 8, 5, 4, 2, 1, 4, 5] with a length  of : 19\n",
      "Execution time : 0.0010023117065429688 seconds\n",
      "\n",
      "Solution found with Custom heuristic: [5, 2, 4, 3, 6, 8, 7, 1, 2, 4, 3, 6, 8, 5, 4, 2, 1, 4, 5] with a length of : 19\n",
      "Execution time : 0.0029668807983398438 seconds\n"
     ]
    },
    {
     "data": {
      "text/markdown": [
       "|<span style=\"color:red\">8</span> | <span style=\"color:red\">6</span> | <span style=\"color:red\">7</span> | <br>|<span style=\"color:green\">2</span> | <span style=\"color:red\">5</span> | <span style=\"color:red\">4</span> | <br>|0 | <span style=\"color:green\">3</span> | <span style=\"color:red\">1</span> | <br>"
      ],
      "text/plain": [
       "<IPython.core.display.Markdown object>"
      ]
     },
     "metadata": {},
     "output_type": "display_data"
    },
    {
     "name": "stdout",
     "output_type": "stream",
     "text": [
      "Solution found with IDDFS: [2, 8, 6, 5, 3, 1, 4, 7, 5, 3, 1, 2, 8, 6, 3, 1, 2, 8, 6, 3, 1, 2, 7, 4, 8, 7, 4, 5] with a length of : 28\n",
      "Execution time : 69.07343339920044 seconds\n",
      "\n",
      "Solution found with Manhatten heuristic: [2, 8, 6, 7, 4, 1, 3, 2, 8, 6, 7, 4, 1, 3, 2, 8, 6, 7, 4, 1, 3, 2, 8, 6, 7, 4, 1, 3, 2, 5, 6, 8, 5, 6, 3, 2, 4, 6, 2, 1, 6, 4, 5, 8, 4, 6, 1, 2, 3, 5, 6, 4, 8, 6, 5, 3, 2, 1, 4, 5, 6] with a length of : 61\n",
      "Execution time : 0.007004499435424805 seconds\n",
      "\n",
      "Solution not found with Hamming heuristic in a 200 move limit\n",
      "Execution time : 0.01803755760192871 seconds\n",
      "\n",
      "Solution found with Custom heuristic: [3, 1, 4, 7, 6, 8, 2, 3, 1, 4, 7, 6, 8, 2, 3, 1, 4, 7, 6, 8, 2, 3, 1, 4, 7, 6, 8, 2, 3, 1, 4, 5, 2, 8, 6, 2, 5, 4, 1, 3, 8, 6, 2, 5, 3, 8, 6, 2, 5, 3, 8, 6, 2, 5, 3, 8, 5, 3, 8, 5, 6, 2, 3, 6, 5] with a length of : 65\n",
      "Execution time : 0.007002592086791992 seconds\n"
     ]
    },
    {
     "data": {
      "text/markdown": [
       "|<span style=\"color:green\">2</span> | <span style=\"color:red\">7</span> | <span style=\"color:red\">5</span> | <br>|0 | <span style=\"color:green\">8</span> | <span style=\"color:red\">4</span> | <br>|<span style=\"color:green\">3</span> | <span style=\"color:red\">1</span> | <span style=\"color:red\">6</span> | <br>"
      ],
      "text/plain": [
       "<IPython.core.display.Markdown object>"
      ]
     },
     "metadata": {},
     "output_type": "display_data"
    },
    {
     "name": "stdout",
     "output_type": "stream",
     "text": [
      "Solution found with IDDFS: [2, 7, 5, 4, 8, 1, 6, 8, 4, 5, 1, 2, 7, 1, 2, 7, 3, 6, 7, 4, 5] with a length of : 21\n",
      "Execution time : 5.509913206100464 seconds\n",
      "\n",
      "Solution not found with Manhatten heuristic in a 200 move limit\n",
      "Execution time : 0.01874089241027832 seconds\n",
      "\n",
      "Solution not found with Hamming heuristic in a 200 move limit\n",
      "Execution time : 0.01796579360961914 seconds\n",
      "\n",
      "Solution not found with Custom heuristic in a 200 move limit\n",
      "Execution time : 0.020091772079467773 seconds\n"
     ]
    }
   ],
   "source": [
    "stateList = [2, 5, 3, 1, 7, 6, 4, 0, 8]\n",
    "matrix = model_problem(stateList)\n",
    "all_strategies(matrix)\n",
    " \n",
    "stateList = [1, 5, 2, 7, 0, 4, 8, 6, 3]\n",
    "matrix = model_problem(stateList)\n",
    "all_strategies(matrix)\n",
    "\n",
    "stateList = [8, 6, 7, 2, 5, 4, 0, 3, 1]\n",
    "matrix = model_problem(stateList)\n",
    "all_strategies(matrix)\n",
    "\n",
    "stateList = [2, 7, 5, 0, 8, 4, 3, 1, 6]\n",
    "matrix = model_problem(stateList)\n",
    "all_strategies(matrix)"
   ]
  },
  {
   "cell_type": "markdown",
   "metadata": {},
   "source": [
    "A* stategy"
   ]
  },
  {
   "cell_type": "code",
   "execution_count": 72,
   "metadata": {},
   "outputs": [],
   "source": [
    "def matrix_to_tuple(matrix):\n",
    "    return tuple(tuple(row) for row in matrix)\n",
    "\n",
    "def tuple_to_matrix(tuples):\n",
    "    return list(list(row) for row in tuples)\n",
    "\n",
    "def dif_between_matrix(prev, current):\n",
    "    for i in range(3):\n",
    "        for j in range(3):\n",
    "            if prev[i][j][0] != current[i][j][0] and current[i][j][0] != 0:\n",
    "                return current[i][j][0]\n",
    "    return 0\n",
    "\n",
    "class State:\n",
    "    def __init__(self, state, depth):\n",
    "        self.state = state\n",
    "        self.depth = depth\n",
    "\n",
    "    def expand(self):\n",
    "        successors = []\n",
    "        m = tuple_to_matrix(self.state)\n",
    "        for cell in [m[i][j][0] for i in range(3) for j in range(3) if m[i][j][1]]:\n",
    "            moveMatrix = tranzitie(m, cell)\n",
    "            successors.append(State(matrix_to_tuple(moveMatrix), self.depth + 1))\n",
    "        return successors\n",
    "    \n",
    "    def __lt__(self, other):\n",
    "        return (manhattan_distance(self.state)) < (manhattan_distance(other.state))\n",
    "\n",
    "def final_proccesing(state_list):\n",
    "    filter_steps = []\n",
    "    depth_list = []\n",
    "    moves = []\n",
    "    index = []\n",
    "    for i in state_list:\n",
    "        depth_list.append(i.depth)\n",
    "    for i in range(1, state_list[len(state_list) - 1].depth-1):\n",
    "        l_index = max([j for j in depth_list if depth_list[j] == i] + [-1])\n",
    "        index.append(l_index)\n",
    "\n",
    "    for i in index:\n",
    "        filter_steps.append(tuple_to_matrix(state_list[i].state))\n",
    "\n",
    "    for i in range(1, len(filter_steps)):\n",
    "        #print_game(filter_steps[i])\n",
    "        moves.append(dif_between_matrix(filter_steps[i-1], filter_steps[i]))\n",
    "    return moves\n",
    "\n",
    "def A_star_search(initial_state):\n",
    "    state_queue = PriorityQueue()\n",
    "    state_queue.put((State(matrix_to_tuple(initial_state), 1)))\n",
    "    closed_list = set()\n",
    "    steps = [State(matrix_to_tuple(initial_state), 1)]\n",
    "\n",
    "    while not state_queue.empty():\n",
    "        current_node = state_queue.get()\n",
    "        steps.append(current_node)\n",
    "        if verificare_stare_finala(matrix_to_tuple(current_node.state)):\n",
    "            return list(filter(lambda x: x != 0, final_proccesing(steps)))\n",
    "\n",
    "        closed_list.add(current_node)\n",
    "\n",
    "        for neighbor_node in current_node.expand():\n",
    "            neighbor_state_tuple = matrix_to_tuple(neighbor_node.state)\n",
    "            if neighbor_state_tuple not in closed_list:\n",
    "                state_queue.put((neighbor_node))\n",
    "\n",
    "\n",
    "    return None"
   ]
  },
  {
   "cell_type": "code",
   "execution_count": 73,
   "metadata": {},
   "outputs": [
    {
     "data": {
      "text/markdown": [
       "|<span style=\"color:red\">2</span> | <span style=\"color:red\">5</span> | <span style=\"color:red\">3</span> | <br>|<span style=\"color:red\">1</span> | <span style=\"color:green\">7</span> | <span style=\"color:red\">6</span> | <br>|<span style=\"color:green\">4</span> | 0 | <span style=\"color:green\">8</span> | <br>"
      ],
      "text/plain": [
       "<IPython.core.display.Markdown object>"
      ]
     },
     "metadata": {},
     "output_type": "display_data"
    },
    {
     "name": "stdout",
     "output_type": "stream",
     "text": [
      "[7, 5, 2]\n"
     ]
    },
    {
     "data": {
      "text/markdown": [
       "|<span style=\"color:red\">1</span> | <span style=\"color:green\">5</span> | <span style=\"color:red\">2</span> | <br>|<span style=\"color:green\">7</span> | 0 | <span style=\"color:green\">4</span> | <br>|<span style=\"color:red\">8</span> | <span style=\"color:green\">6</span> | <span style=\"color:red\">3</span> | <br>"
      ],
      "text/plain": [
       "<IPython.core.display.Markdown object>"
      ]
     },
     "metadata": {},
     "output_type": "display_data"
    },
    {
     "name": "stdout",
     "output_type": "stream",
     "text": [
      "[4, 3, 6, 8, 7, 4, 5, 2]\n"
     ]
    },
    {
     "data": {
      "text/markdown": [
       "|<span style=\"color:red\">8</span> | <span style=\"color:red\">6</span> | <span style=\"color:red\">7</span> | <br>|<span style=\"color:green\">2</span> | <span style=\"color:red\">5</span> | <span style=\"color:red\">4</span> | <br>|0 | <span style=\"color:green\">3</span> | <span style=\"color:red\">1</span> | <br>"
      ],
      "text/plain": [
       "<IPython.core.display.Markdown object>"
      ]
     },
     "metadata": {},
     "output_type": "display_data"
    },
    {
     "name": "stdout",
     "output_type": "stream",
     "text": [
      "[3, 1, 4, 7, 6, 8, 2, 3, 1, 4, 7, 6, 8, 2, 3, 1, 4, 7, 6, 8, 2, 3, 1, 4, 7, 5, 8, 6, 5, 8, 6, 2, 3, 3, 6, 2, 3, 6, 2, 2]\n"
     ]
    }
   ],
   "source": [
    "\n",
    "stateList = [2, 5, 3, 1, 7, 6, 4, 0, 8]\n",
    "matrix = model_problem(stateList)\n",
    "print_game(matrix)\n",
    "print(A_star_search(matrix))\n",
    " \n",
    "stateList = [1, 5, 2, 7, 0, 4, 8, 6, 3]\n",
    "matrix = model_problem(stateList)\n",
    "print_game(matrix)\n",
    "print(A_star_search(matrix))\n",
    "\n",
    "stateList = [8, 6, 7, 2, 5, 4, 0, 3, 1]\n",
    "matrix = model_problem(stateList)\n",
    "print_game(matrix)\n",
    "print(A_star_search(matrix))\n"
   ]
  },
  {
   "cell_type": "code",
   "execution_count": 76,
   "metadata": {},
   "outputs": [],
   "source": [
    "#adugam A* in 6:\n",
    "def all_strategies(matrix):\n",
    "    print_game(matrix)\n",
    "    start_time = time.time()\n",
    "    rez_IDDFS = IDDFS_search(matrix, 40)\n",
    "    end_time = time.time()\n",
    "    execution_time_IDDFS = end_time - start_time\n",
    "    if(rez_IDDFS == \"Limita de pasi atinsa\"):\n",
    "        print(\"Solution not found with IDDFS in a 40 move limit\")\n",
    "    else:\n",
    "        print(\"Solution found with IDDFS: \" + str(rez_IDDFS) + \" with a length of : \" + str(len(rez_IDDFS)))\n",
    "    print(\"Execution time : \" + str(execution_time_IDDFS) + \" seconds\")\n",
    "\n",
    "    print()\n",
    "    \n",
    "    start_time = time.time()\n",
    "    rez_Manhatten = greedy_manhattan(matrix, 200)\n",
    "    end_time = time.time()\n",
    "    execution_time_Manhatten = end_time - start_time\n",
    "    if(rez_Manhatten == \"Limita de pasi atinsa\"):\n",
    "        print(\"Solution not found with Manhatten heuristic in a 200 move limit\")\n",
    "    else:\n",
    "        print(\"Solution found with Manhatten heuristic: \" + str(rez_Manhatten) + \" with a length of : \" + str(len(rez_Manhatten)))\n",
    "    print(\"Execution time : \" + str(execution_time_Manhatten) + \" seconds\")\n",
    "\n",
    "    print()\n",
    "\n",
    "    start_time = time.time()\n",
    "    rez_Hamming = greedy_hamming(matrix, 200)\n",
    "    end_time = time.time()\n",
    "    execution_time_Hamming = end_time - start_time\n",
    "    if(rez_Hamming == \"Limita de pasi atinsa\"):\n",
    "        print(\"Solution not found with Hamming heuristic in a 200 move limit\")\n",
    "    else:\n",
    "        print(\"Solution found with Hamming heuristic: \" + str(rez_Hamming) + \" with a length  of : \" + str(len(rez_Hamming)))\n",
    "    print(\"Execution time : \" + str(execution_time_Hamming) + \" seconds\")\n",
    "\n",
    "    print()\n",
    "\n",
    "    start_time = time.time()\n",
    "    rez_Custom = greedy_euclidean(matrix, 200)\n",
    "    end_time = time.time()\n",
    "    execution_time_Custom = end_time - start_time\n",
    "    if(rez_Custom == \"Limita de pasi atinsa\"):\n",
    "        print(\"Solution not found with Custom heuristic in a 200 move limit\")\n",
    "    else:\n",
    "        print(\"Solution found with Custom heuristic: \" + str(rez_Custom) + \" with a length of : \" + str(len(rez_Custom)))\n",
    "    print(\"Execution time : \" + str(execution_time_Custom) + \" seconds\")\n",
    "\n",
    "    print()\n",
    "\n",
    "    start_time = time.time()\n",
    "    rez_A = A_star_search(matrix)\n",
    "    end_time = time.time()\n",
    "    execution_time_A = end_time - start_time\n",
    "    print(\"Solution found with A*: \" + str(rez_A) + \" with a length of : \" + str(len(rez_A)))\n",
    "    print(\"Execution time : \" + str(execution_time_A) + \" seconds\")"
   ]
  },
  {
   "cell_type": "code",
   "execution_count": 77,
   "metadata": {},
   "outputs": [
    {
     "data": {
      "text/markdown": [
       "|<span style=\"color:red\">2</span> | <span style=\"color:red\">5</span> | <span style=\"color:red\">3</span> | <br>|<span style=\"color:red\">1</span> | <span style=\"color:green\">7</span> | <span style=\"color:red\">6</span> | <br>|<span style=\"color:green\">4</span> | 0 | <span style=\"color:green\">8</span> | <br>"
      ],
      "text/plain": [
       "<IPython.core.display.Markdown object>"
      ]
     },
     "metadata": {},
     "output_type": "display_data"
    },
    {
     "name": "stdout",
     "output_type": "stream",
     "text": [
      "Solution found with IDDFS: [7, 5, 2, 1, 4] with a length of : 5\n",
      "Execution time : 0.0010058879852294922 seconds\n",
      "\n",
      "Solution found with Manhatten heuristic: [7, 5, 2, 1, 4] with a length of : 5\n",
      "Execution time : 0.000988006591796875 seconds\n",
      "\n",
      "Solution not found with Hamming heuristic in a 200 move limit\n",
      "Execution time : 0.01900172233581543 seconds\n",
      "\n",
      "Solution not found with Custom heuristic in a 200 move limit\n",
      "Execution time : 0.02602386474609375 seconds\n",
      "\n",
      "Solution found with A*: [7, 5, 2] with a length of : 3\n",
      "Execution time : 0.001004934310913086 seconds\n"
     ]
    },
    {
     "data": {
      "text/markdown": [
       "|<span style=\"color:red\">1</span> | <span style=\"color:green\">5</span> | <span style=\"color:red\">2</span> | <br>|<span style=\"color:green\">7</span> | 0 | <span style=\"color:green\">4</span> | <br>|<span style=\"color:red\">8</span> | <span style=\"color:green\">6</span> | <span style=\"color:red\">3</span> | <br>"
      ],
      "text/plain": [
       "<IPython.core.display.Markdown object>"
      ]
     },
     "metadata": {},
     "output_type": "display_data"
    },
    {
     "name": "stdout",
     "output_type": "stream",
     "text": [
      "Solution found with IDDFS: [4, 3, 6, 8, 7, 4, 5, 2, 3, 6] with a length of : 10\n",
      "Execution time : 0.036635398864746094 seconds\n",
      "\n",
      "Solution found with Manhatten heuristic: [5, 2, 4, 3, 6, 8, 7, 1, 2, 4, 3, 6, 8, 5, 4, 2, 1, 4, 5] with a length of : 19\n",
      "Execution time : 0.001999378204345703 seconds\n",
      "\n",
      "Solution found with Hamming heuristic: [5, 2, 4, 3, 6, 8, 7, 1, 2, 4, 3, 6, 8, 5, 4, 2, 1, 4, 5] with a length  of : 19\n",
      "Execution time : 0.0019981861114501953 seconds\n",
      "\n",
      "Solution found with Custom heuristic: [5, 2, 4, 3, 6, 8, 7, 1, 2, 4, 3, 6, 8, 5, 4, 2, 1, 4, 5] with a length of : 19\n",
      "Execution time : 0.0019974708557128906 seconds\n",
      "\n",
      "Solution found with A*: [4, 3, 6, 8, 7, 4, 5, 2] with a length of : 8\n",
      "Execution time : 0.001003265380859375 seconds\n"
     ]
    }
   ],
   "source": [
    "stateList = [2, 5, 3, 1, 7, 6, 4, 0, 8]\n",
    "matrix = model_problem(stateList)\n",
    "all_strategies(matrix)\n",
    " \n",
    "stateList = [1, 5, 2, 7, 0, 4, 8, 6, 3]\n",
    "matrix = model_problem(stateList)\n",
    "all_strategies(matrix)"
   ]
  }
 ],
 "metadata": {
  "kernelspec": {
   "display_name": "Python 3",
   "language": "python",
   "name": "python3"
  },
  "language_info": {
   "codemirror_mode": {
    "name": "ipython",
    "version": 3
   },
   "file_extension": ".py",
   "mimetype": "text/x-python",
   "name": "python",
   "nbconvert_exporter": "python",
   "pygments_lexer": "ipython3",
   "version": "3.10.11"
  }
 },
 "nbformat": 4,
 "nbformat_minor": 2
}
