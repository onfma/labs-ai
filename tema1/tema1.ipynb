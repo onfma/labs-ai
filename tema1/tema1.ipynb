{
 "cells": [
  {
   "cell_type": "code",
   "execution_count": 12,
   "metadata": {},
   "outputs": [],
   "source": [
    "from colorama import Fore, init\n",
    "init(autoreset=True)\n",
    "import copy\n",
    "from numpy import dtype\n",
    "from IPython.display import Markdown, display"
   ]
  },
  {
   "cell_type": "markdown",
   "metadata": {},
   "source": [
    "Definim modelarea problemei printr-o matrice de tupluri de 3x3. Pentru modelare definim 2 functii auxiliare pentru transformarea listei initiala in matrice si pentru transformarea matricei inpoi in lista: "
   ]
  },
  {
   "cell_type": "code",
   "execution_count": 5,
   "metadata": {},
   "outputs": [
    {
     "name": "stdout",
     "output_type": "stream",
     "text": [
      "[[(1, False), (5, True), (2, False)], [(7, True), (0, False), (4, True)], [(8, False), (6, True), (3, False)]]\n",
      "[1, 5, 2, 7, 0, 4, 8, 6, 3]\n"
     ]
    }
   ],
   "source": [
    "def model_problem(array):\n",
    "    matrice = [[0, 0, 0], [0, 0, 0], [0, 0, 0]]\n",
    "    for i in range(9):\n",
    "        matrice[i // 3][i % 3] = (array[i], False)\n",
    "        if array[i] == 0:\n",
    "            i_zero = i // 3\n",
    "            j_zero = i % 3\n",
    "    directii = [(i_zero - 1, j_zero), (i_zero + 1, j_zero), (i_zero, j_zero - 1), (i_zero, j_zero + 1)]\n",
    "    for i, j in directii:\n",
    "        if 0 <= i < 3 and 0 <= j < 3:\n",
    "            matrice[i][j] = (matrice[i][j][0], True)\n",
    "    return matrice\n",
    "\n",
    "def model_back(matrice):\n",
    "    a = [0,0,0,0,0,0,0,0,0]\n",
    "    for i in range(3):\n",
    "        for j in range(3):\n",
    "            a[i*3+j] = matrice[i][j][0]\n",
    "    return a\n",
    "\n",
    "\n",
    "#Teste pentru functiile auxiliare\n",
    "initial_array = [1, 5, 2, 7, 0, 4, 8, 6, 3] \n",
    "matrix = model_problem(initial_array)\n",
    "print(model_problem(initial_array))\n",
    "print(model_back(matrix))\n"
   ]
  },
  {
   "cell_type": "markdown",
   "metadata": {},
   "source": [
    "Pe langa acestea am definit 2 functii de printare a unei instante a jocului:"
   ]
  },
  {
   "cell_type": "code",
   "execution_count": 16,
   "metadata": {},
   "outputs": [
    {
     "name": "stdout",
     "output_type": "stream",
     "text": [
      "(1, False)\t(5, True)\t(2, False)\t\n",
      "(7, True)\t(0, False)\t(4, True)\t\n",
      "(8, False)\t(6, True)\t(3, False)\t\n"
     ]
    },
    {
     "data": {
      "text/markdown": [
       "|<span style=\"color:red\">1</span> | <span style=\"color:green\">5</span> | <span style=\"color:red\">2</span> | <br>|<span style=\"color:green\">7</span> | 0 | <span style=\"color:green\">4</span> | <br>|<span style=\"color:red\">8</span> | <span style=\"color:green\">6</span> | <span style=\"color:red\">3</span> | <br>"
      ],
      "text/plain": [
       "<IPython.core.display.Markdown object>"
      ]
     },
     "metadata": {},
     "output_type": "display_data"
    }
   ],
   "source": [
    "def print_matrix(matrix):\n",
    "    for row in matrix:\n",
    "        for element in row:\n",
    "            print(element, end='\\t')\n",
    "        print() \n",
    "\n",
    "def print_game(matrix):\n",
    "    output = \"\"\n",
    "    for row in matrix:\n",
    "        output += '|'\n",
    "        for element in row:\n",
    "            if element[1]:\n",
    "                color = f'<span style=\"color:green\">{element[0]}</span>'\n",
    "                output += f\"{color} | \"\n",
    "            elif element[0] == 0:\n",
    "                output += '0 | '\n",
    "            else:\n",
    "                color = f'<span style=\"color:red\">{element[0]}</span>'\n",
    "                output += f\"{color} | \"\n",
    "        output += \"<br>\"  # Add line break for the next row\n",
    "    display(Markdown(output))\n",
    "\n",
    "\n",
    "print_matrix(matrix)\n",
    "print_game(matrix)\n"
   ]
  },
  {
   "cell_type": "markdown",
   "metadata": {},
   "source": [
    "Tot ca functii auxiliare am definit 2 functii meniite sa gaseasca pozitia unui numar in joc respectiv pozitia celulei goale din joc"
   ]
  },
  {
   "cell_type": "code",
   "execution_count": 18,
   "metadata": {},
   "outputs": [
    {
     "name": "stdout",
     "output_type": "stream",
     "text": [
      "(2, 1)\n",
      "(1, 1)\n"
     ]
    }
   ],
   "source": [
    "# returneaza pozitia valorii n din matricea de joc sub forma de tuplu (i,j)\n",
    "def find_positions(matrice, n):\n",
    "    for i in range(3):\n",
    "        for j in range(3):\n",
    "            if matrice[i][j][0] == n:\n",
    "                return (i, j)\n",
    "                      \n",
    "# returneaza pozitia valorii 0 din matricea de joc\n",
    "def find_zero(matrice):\n",
    "    for i in range(3):\n",
    "        for j in range(3):\n",
    "            if matrice[i][j][0] == 0:\n",
    "                return (i, j)\n",
    "print(find_positions(matrix,6))\n",
    "print(find_zero(matrix))"
   ]
  },
  {
   "cell_type": "markdown",
   "metadata": {},
   "source": [
    "Identificarea starilor speciale se face cu functiile verificare_stare_initiala si verificare_stare_finala"
   ]
  },
  {
   "cell_type": "code",
   "execution_count": 19,
   "metadata": {},
   "outputs": [],
   "source": [
    "def verificare_stare_finala(matrice):\n",
    "    array = model_back(matrice)\n",
    "    array.remove(0)\n",
    "    if array == sorted(array):\n",
    "        return True\n",
    "    else:\n",
    "        return False\n",
    "\n",
    "def verificare_stare_initiala(matrice):\n",
    "    array = model_back(matrice)\n",
    "    if array == initial_array:\n",
    "        return True\n",
    "    else:\n",
    "        return False\n"
   ]
  },
  {
   "cell_type": "markdown",
   "metadata": {},
   "source": [
    "Tranzitiile sunt implementate cu ajutorul functiei de tranzitie care are ca parametrii matricea in care dorim sa jucam si numarul celulei de mutat. Functia de tranzitie se foloseste de o functie de validare a tranzitiei (care verifica daca flagul celulei de mutat e True) iar apoi muta celula cu numarul primit ca paramentru in spatiul liber unic in joc."
   ]
  },
  {
   "cell_type": "code",
   "execution_count": 23,
   "metadata": {},
   "outputs": [
    {
     "data": {
      "text/markdown": [
       "|<span style=\"color:red\">8</span> | <span style=\"color:red\">6</span> | <span style=\"color:red\">7</span> | <br>|<span style=\"color:green\">2</span> | <span style=\"color:red\">5</span> | <span style=\"color:red\">4</span> | <br>|0 | <span style=\"color:green\">3</span> | <span style=\"color:red\">1</span> | <br>"
      ],
      "text/plain": [
       "<IPython.core.display.Markdown object>"
      ]
     },
     "metadata": {},
     "output_type": "display_data"
    },
    {
     "name": "stdout",
     "output_type": "stream",
     "text": [
      "Matrice dupa ce apelam tranzitie(matrice, 3):\n"
     ]
    },
    {
     "data": {
      "text/markdown": [
       "|<span style=\"color:red\">8</span> | <span style=\"color:red\">6</span> | <span style=\"color:red\">7</span> | <br>|<span style=\"color:red\">2</span> | <span style=\"color:green\">5</span> | <span style=\"color:red\">4</span> | <br>|<span style=\"color:red\">3</span> | 0 | <span style=\"color:green\">1</span> | <br>"
      ],
      "text/plain": [
       "<IPython.core.display.Markdown object>"
      ]
     },
     "metadata": {},
     "output_type": "display_data"
    }
   ],
   "source": [
    "# returneaza valoarea flag-ului (true/false) pt valoarea n\n",
    "def validare_tranzitie(matrice, n):\n",
    "    return matrice[find_positions(matrice, n)[0]][find_positions(matrice, n)[1]][1]\n",
    "\n",
    "# functie care face tranzitia nr n in locul null\n",
    "def tranzitie(matrice, n):\n",
    "    if validare_tranzitie(matrice, n) == True:\n",
    "        m = copy.deepcopy(matrice)\n",
    "        i = find_positions(matrice, n)[0]\n",
    "        j = find_positions(matrice, n)[1]\n",
    "\n",
    "        i0 = find_zero(matrice)[0]\n",
    "        j0 = find_zero(matrice)[1]\n",
    "\n",
    "        # actualizarea flag-urilor pt vechile valor care nu mai pot si mutate\n",
    "        directii = [(i0 - 1, j0), (i0 + 1, j0), (i0, j0 - 1), (i0, j0 + 1)]\n",
    "        for ii, jj in directii:\n",
    "            if 0 <= ii < 3 and 0 <= jj < 3 and m[ii][jj][0] != n:\n",
    "                m[ii][jj] = (m[ii][jj][0], False)\n",
    "\n",
    "        # actualizare flag-uri pt noile valori care pot fi mutate (vecinii lui n)\n",
    "        directii = [(i - 1, j), (i + 1, j), (i, j - 1), (i, j + 1)]\n",
    "        for ii, jj in directii:\n",
    "            if 0 <= ii < 3 and 0 <= jj < 3 and m[ii][jj][0] != 0:\n",
    "                m[ii][jj] = (m[ii][jj][0], True)\n",
    "\n",
    "        # actualizarea pozitie pt n & null\n",
    "        m[i0][j0] = (n, False)\n",
    "        m[i][j] = (0, False)\n",
    "        return m\n",
    "\n",
    "    else:\n",
    "        print(\"tranzitie nepermisa\")\n",
    "        \n",
    "m = model_problem( [8, 6, 7, 2, 5, 4, 0, 3, 1])\n",
    "print_game(m)\n",
    "x = tranzitie(m, 3)\n",
    "print(\"Matrice dupa ce apelam tranzitie(matrice, 3):\")\n",
    "print_game(x)"
   ]
  },
  {
   "cell_type": "markdown",
   "metadata": {},
   "source": [
    "In final definim functia de IDDFS search care itereaza toate stagiile posibile in care poate ajunge jocul intr-un numar maxim de miscari si returneaza sirul de miscari necesare pentru a ajunge in starea finala prin cel mai mic numar de pasi."
   ]
  },
  {
   "cell_type": "code",
   "execution_count": 30,
   "metadata": {},
   "outputs": [],
   "source": [
    "def IDDFS_search(matrice, maxSteps):\n",
    "    nthStepList = [matrice]\n",
    "    moveList = []\n",
    "    step = 0\n",
    "    while step <= maxSteps:\n",
    "        nextStepList = []\n",
    "        nextMoveList = []\n",
    "        step += 1\n",
    "        for v in nthStepList:\n",
    "            if verificare_stare_finala(v):\n",
    "                print(\"Ajuns la rezolvare prin pasii:\")\n",
    "                print(moveList[nthStepList.index(v)])\n",
    "                return moveList[nthStepList.index(v)]\n",
    "        for m in nthStepList:\n",
    "            for cell in [m[i][j][0] for i in range(3) for j in range(3) if m[i][j][1]]:\n",
    "                moveMatrix = tranzitie(m, cell)\n",
    "                if moveMatrix not in nextStepList:\n",
    "                    nextStepList += [moveMatrix]\n",
    "                    if moveList != []:\n",
    "                        list = moveList[nthStepList.index(m)] + [cell]\n",
    "                        nextMoveList.append(list)\n",
    "                    else:\n",
    "                        list = [cell]\n",
    "                        nextMoveList.append(list)\n",
    "        #print(nextMoveList)\n",
    "        #for g in nextStepList:\n",
    "            #print_game(g)\n",
    "            #print(nextMoveList[nextStepList.index(g)])\n",
    "            #print(\"_______________\")\n",
    "        #print(step)\n",
    "        nthStepList = copy.deepcopy(nextStepList)\n",
    "        moveList = copy.deepcopy(nextMoveList)\n",
    "    print(\"nu se poate rezolva in nr de miscari\")\n",
    "    return [[(0, False) for i in range(3)] for j in range(3)]\n",
    "        \n"
   ]
  },
  {
   "cell_type": "markdown",
   "metadata": {},
   "source": [
    "Testam codul pe cateva variante de joc generate si rezolavte de https://deniz.co/8-puzzle-solver/"
   ]
  },
  {
   "cell_type": "code",
   "execution_count": 42,
   "metadata": {},
   "outputs": [
    {
     "data": {
      "text/markdown": [
       "|<span style=\"color:red\">2</span> | <span style=\"color:red\">5</span> | <span style=\"color:red\">3</span> | <br>|<span style=\"color:red\">1</span> | <span style=\"color:green\">7</span> | <span style=\"color:red\">6</span> | <br>|<span style=\"color:green\">4</span> | 0 | <span style=\"color:green\">8</span> | <br>"
      ],
      "text/plain": [
       "<IPython.core.display.Markdown object>"
      ]
     },
     "metadata": {},
     "output_type": "display_data"
    },
    {
     "name": "stdout",
     "output_type": "stream",
     "text": [
      "Ajuns la rezolvare prin pasii:\n",
      "[7, 5, 2, 1, 4]\n"
     ]
    },
    {
     "data": {
      "text/markdown": [
       "|<span style=\"color:red\">1</span> | <span style=\"color:green\">5</span> | <span style=\"color:red\">2</span> | <br>|<span style=\"color:green\">7</span> | 0 | <span style=\"color:green\">4</span> | <br>|<span style=\"color:red\">8</span> | <span style=\"color:green\">6</span> | <span style=\"color:red\">3</span> | <br>"
      ],
      "text/plain": [
       "<IPython.core.display.Markdown object>"
      ]
     },
     "metadata": {},
     "output_type": "display_data"
    },
    {
     "name": "stdout",
     "output_type": "stream",
     "text": [
      "Ajuns la rezolvare prin pasii:\n",
      "[4, 3, 6, 8, 7, 4, 5, 2, 3, 6]\n"
     ]
    },
    {
     "data": {
      "text/markdown": [
       "|<span style=\"color:red\">7</span> | <span style=\"color:red\">1</span> | <span style=\"color:red\">3</span> | <br>|<span style=\"color:red\">5</span> | <span style=\"color:green\">6</span> | <span style=\"color:red\">4</span> | <br>|<span style=\"color:green\">2</span> | 0 | <span style=\"color:green\">8</span> | <br>"
      ],
      "text/plain": [
       "<IPython.core.display.Markdown object>"
      ]
     },
     "metadata": {},
     "output_type": "display_data"
    },
    {
     "name": "stdout",
     "output_type": "stream",
     "text": [
      "Ajuns la rezolvare prin pasii:\n",
      "[6, 4, 3, 1, 4, 5, 7, 4, 1, 3, 5, 7, 2, 6, 7, 2, 4, 1, 2]\n"
     ]
    },
    {
     "data": {
      "text/plain": [
       "[6, 4, 3, 1, 4, 5, 7, 4, 1, 3, 5, 7, 2, 6, 7, 2, 4, 1, 2]"
      ]
     },
     "execution_count": 42,
     "metadata": {},
     "output_type": "execute_result"
    }
   ],
   "source": [
    "#253176408 cu solutia : 7, 5, 2, 1, 4, 7, 8\n",
    "stateList = [2, 5, 3, 1, 7, 6, 4, 0, 8]\n",
    "matrix = model_problem(stateList)\n",
    "print_game(matrix)\n",
    "IDDFS_search(matrix, 10)\n",
    " \n",
    "#152704863 cu solutia : 4, 3, 6, 8, 7, 4, 5, 2, 3, 6\n",
    "stateList = [1, 5, 2, 7, 0, 4, 8, 6, 3]\n",
    "matrix = model_problem(stateList)\n",
    "print_game(matrix)\n",
    "IDDFS_search(matrix, 10)\n",
    "\n",
    "#867254031\n",
    "stateList = [7, 1, 3, 5, 6, 4, 2, 0, 8]\n",
    "matrix = model_problem(stateList)\n",
    "print_game(matrix)\n",
    "IDDFS_search(matrix, 25)\n"
   ]
  }
 ],
 "metadata": {
  "kernelspec": {
   "display_name": "Python 3",
   "language": "python",
   "name": "python3"
  },
  "language_info": {
   "codemirror_mode": {
    "name": "ipython",
    "version": 3
   },
   "file_extension": ".py",
   "mimetype": "text/x-python",
   "name": "python",
   "nbconvert_exporter": "python",
   "pygments_lexer": "ipython3",
   "version": "3.10.11"
  }
 },
 "nbformat": 4,
 "nbformat_minor": 2
}
