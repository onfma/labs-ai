{
 "cells": [
  {
   "cell_type": "code",
   "execution_count": 2,
   "metadata": {},
   "outputs": [],
   "source": [
    "from colorama import Fore, init\n",
    "init(autoreset=True)\n",
    "import copy\n",
    "from numpy import dtype\n",
    "from IPython.display import Markdown, display"
   ]
  },
  {
   "cell_type": "markdown",
   "metadata": {},
   "source": [
    "Definim modelarea problemei printr-o matrice de tupluri de 3x3. Pentru modelare definim 2 functii auxiliare pentru transformarea listei initiala in matrice si pentru transformarea matricei inpoi in lista: "
   ]
  },
  {
   "cell_type": "code",
   "execution_count": 3,
   "metadata": {},
   "outputs": [
    {
     "name": "stdout",
     "output_type": "stream",
     "text": [
      "[[(1, False), (5, True), (2, False)], [(7, True), (0, False), (4, True)], [(8, False), (6, True), (3, False)]]\n",
      "[1, 5, 2, 7, 0, 4, 8, 6, 3]\n"
     ]
    }
   ],
   "source": [
    "def model_problem(array):\n",
    "    matrice = [[0, 0, 0], [0, 0, 0], [0, 0, 0]]\n",
    "    for i in range(9):\n",
    "        matrice[i // 3][i % 3] = (array[i], False)\n",
    "        if array[i] == 0:\n",
    "            i_zero = i // 3\n",
    "            j_zero = i % 3\n",
    "    directii = [(i_zero - 1, j_zero), (i_zero + 1, j_zero), (i_zero, j_zero - 1), (i_zero, j_zero + 1)]\n",
    "    for i, j in directii:\n",
    "        if 0 <= i < 3 and 0 <= j < 3:\n",
    "            matrice[i][j] = (matrice[i][j][0], True)\n",
    "    return matrice\n",
    "\n",
    "def model_back(matrice):\n",
    "    a = [0,0,0,0,0,0,0,0,0]\n",
    "    for i in range(3):\n",
    "        for j in range(3):\n",
    "            a[i*3+j] = matrice[i][j][0]\n",
    "    return a\n",
    "\n",
    "\n",
    "#Teste pentru functiile auxiliare\n",
    "initial_array = [1, 5, 2, 7, 0, 4, 8, 6, 3] \n",
    "matrix = model_problem(initial_array)\n",
    "print(model_problem(initial_array))\n",
    "print(model_back(matrix))\n"
   ]
  },
  {
   "cell_type": "markdown",
   "metadata": {},
   "source": [
    "Pe langa acestea am definit 2 functii de printare a unei instante a jocului:"
   ]
  },
  {
   "cell_type": "code",
   "execution_count": 4,
   "metadata": {},
   "outputs": [
    {
     "name": "stdout",
     "output_type": "stream",
     "text": [
      "(1, False)\t(5, True)\t(2, False)\t\n",
      "(7, True)\t(0, False)\t(4, True)\t\n",
      "(8, False)\t(6, True)\t(3, False)\t\n"
     ]
    },
    {
     "data": {
      "text/markdown": [
       "|<span style=\"color:red\">1</span> | <span style=\"color:green\">5</span> | <span style=\"color:red\">2</span> | <br>|<span style=\"color:green\">7</span> | 0 | <span style=\"color:green\">4</span> | <br>|<span style=\"color:red\">8</span> | <span style=\"color:green\">6</span> | <span style=\"color:red\">3</span> | <br>"
      ],
      "text/plain": [
       "<IPython.core.display.Markdown object>"
      ]
     },
     "metadata": {},
     "output_type": "display_data"
    }
   ],
   "source": [
    "def print_matrix(matrix):\n",
    "    for row in matrix:\n",
    "        for element in row:\n",
    "            print(element, end='\\t')\n",
    "        print() \n",
    "\n",
    "def print_game(matrix):\n",
    "    output = \"\"\n",
    "    for row in matrix:\n",
    "        output += '|'\n",
    "        for element in row:\n",
    "            if element[1]:\n",
    "                color = f'<span style=\"color:green\">{element[0]}</span>'\n",
    "                output += f\"{color} | \"\n",
    "            elif element[0] == 0:\n",
    "                output += '0 | '\n",
    "            else:\n",
    "                color = f'<span style=\"color:red\">{element[0]}</span>'\n",
    "                output += f\"{color} | \"\n",
    "        output += \"<br>\"  # Add line break for the next row\n",
    "    display(Markdown(output))\n",
    "\n",
    "\n",
    "print_matrix(matrix)\n",
    "print_game(matrix)\n"
   ]
  },
  {
   "cell_type": "markdown",
   "metadata": {},
   "source": [
    "Tot ca functii auxiliare am definit 2 functii meniite sa gaseasca pozitia unui numar in joc respectiv pozitia celulei goale din joc"
   ]
  },
  {
   "cell_type": "code",
   "execution_count": 5,
   "metadata": {},
   "outputs": [
    {
     "name": "stdout",
     "output_type": "stream",
     "text": [
      "(2, 1)\n",
      "(1, 1)\n"
     ]
    }
   ],
   "source": [
    "# returneaza pozitia valorii n din matricea de joc sub forma de tuplu (i,j)\n",
    "def find_positions(matrice, n):\n",
    "    for i in range(3):\n",
    "        for j in range(3):\n",
    "            if matrice[i][j][0] == n:\n",
    "                return (i, j)\n",
    "                      \n",
    "# returneaza pozitia valorii 0 din matricea de joc\n",
    "def find_zero(matrice):\n",
    "    for i in range(3):\n",
    "        for j in range(3):\n",
    "            if matrice[i][j][0] == 0:\n",
    "                return (i, j)\n",
    "print(find_positions(matrix,6))\n",
    "print(find_zero(matrix))"
   ]
  },
  {
   "cell_type": "markdown",
   "metadata": {},
   "source": [
    "Identificarea starilor speciale se face cu functiile verificare_stare_initiala si verificare_stare_finala"
   ]
  },
  {
   "cell_type": "code",
   "execution_count": 6,
   "metadata": {},
   "outputs": [],
   "source": [
    "def verificare_stare_finala(matrice):\n",
    "    flattened_matrix = [matrice[i][j][0] for i in range(3) for j in range(3)]\n",
    "    flattened_matrix.remove(0)\n",
    "    return flattened_matrix == sorted(flattened_matrix)\n",
    "\n",
    "def verificare_stare_initiala(matrice):\n",
    "    array = model_back(matrice)\n",
    "    if array == initial_array:\n",
    "        return True\n",
    "    else:\n",
    "        return False\n"
   ]
  },
  {
   "cell_type": "markdown",
   "metadata": {},
   "source": [
    "Tranzitiile sunt implementate cu ajutorul functiei de tranzitie care are ca parametrii matricea in care dorim sa jucam si numarul celulei de mutat. Functia de tranzitie se foloseste de o functie de validare a tranzitiei (care verifica daca flagul celulei de mutat e True) iar apoi muta celula cu numarul primit ca paramentru in spatiul liber unic in joc."
   ]
  },
  {
   "cell_type": "code",
   "execution_count": 39,
   "metadata": {},
   "outputs": [
    {
     "data": {
      "text/markdown": [
       "|<span style=\"color:red\">8</span> | <span style=\"color:red\">6</span> | <span style=\"color:red\">7</span> | <br>|<span style=\"color:green\">2</span> | <span style=\"color:red\">5</span> | <span style=\"color:red\">4</span> | <br>|0 | <span style=\"color:green\">3</span> | <span style=\"color:red\">1</span> | <br>"
      ],
      "text/plain": [
       "<IPython.core.display.Markdown object>"
      ]
     },
     "metadata": {},
     "output_type": "display_data"
    },
    {
     "name": "stdout",
     "output_type": "stream",
     "text": [
      "Matrice dupa ce apelam tranzitie(matrice, 3):\n"
     ]
    },
    {
     "data": {
      "text/markdown": [
       "|<span style=\"color:red\">8</span> | <span style=\"color:red\">6</span> | <span style=\"color:red\">7</span> | <br>|<span style=\"color:red\">2</span> | <span style=\"color:green\">5</span> | <span style=\"color:red\">4</span> | <br>|<span style=\"color:red\">3</span> | 0 | <span style=\"color:green\">1</span> | <br>"
      ],
      "text/plain": [
       "<IPython.core.display.Markdown object>"
      ]
     },
     "metadata": {},
     "output_type": "display_data"
    }
   ],
   "source": [
    "# returneaza valoarea flag-ului (true/false) pt valoarea n\n",
    "def validare_tranzitie(matrice, n):\n",
    "    return matrice[find_positions(matrice, n)[0]][find_positions(matrice, n)[1]][1]\n",
    "\n",
    "# functie care face tranzitia nr n in locul null\n",
    "def tranzitie(matrice, n):\n",
    "    m = copy.deepcopy(matrice)\n",
    "    i, j = find_positions(matrice, n)\n",
    "    i0, j0 = find_zero(matrice)\n",
    "    if matrice[i][j][1]:\n",
    "        # actualizarea flag-urilor pt vechile valor care nu mai pot si mutate\n",
    "        directii = [(i0 - 1, j0), (i0 + 1, j0), (i0, j0 - 1), (i0, j0 + 1)]\n",
    "        for ii, jj in directii:\n",
    "            if 0 <= ii < 3 and 0 <= jj < 3 and m[ii][jj][0] != n:\n",
    "                m[ii][jj] = (m[ii][jj][0], False)\n",
    "\n",
    "        # actualizare flag-uri pt noile valori care pot fi mutate (vecinii lui n)\n",
    "        directii = [(i - 1, j), (i + 1, j), (i, j - 1), (i, j + 1)]\n",
    "        for ii, jj in directii:\n",
    "            if 0 <= ii < 3 and 0 <= jj < 3 and m[ii][jj][0] != 0:\n",
    "                m[ii][jj] = (m[ii][jj][0], True)\n",
    "        # actualizarea pozitie pt n & null\n",
    "        m[i0][j0] = (n, False)\n",
    "        m[i][j] = (0, False)\n",
    "        return m\n",
    "\n",
    "    else:\n",
    "        print(\"tranzitie nepermisa\")\n",
    "        print_game(m)\n",
    "        print(n)\n",
    "\n",
    "m = model_problem( [8, 6, 7, 2, 5, 4, 0, 3, 1])\n",
    "print_game(m)\n",
    "x = tranzitie(m, 3)\n",
    "print(\"Matrice dupa ce apelam tranzitie(matrice, 3):\")\n",
    "print_game(x)"
   ]
  },
  {
   "cell_type": "markdown",
   "metadata": {},
   "source": [
    "In final definim functia de IDDFS search care itereaza toate stagiile posibile in care poate ajunge jocul intr-un numar maxim de miscari si returneaza sirul de miscari necesare pentru a ajunge in starea finala prin cel mai mic numar de pasi."
   ]
  },
  {
   "cell_type": "code",
   "execution_count": 27,
   "metadata": {},
   "outputs": [],
   "source": [
    "def IDDFS_search(matrice, maxSteps):\n",
    "    nthStepDict = {tuple(tuple(row) for row in matrice): []}\n",
    "    step = 0\n",
    "\n",
    "    while step <= maxSteps:\n",
    "        nextStepDict = {}\n",
    "        step += 1\n",
    "\n",
    "        for m, moveList in nthStepDict.items():\n",
    "            for cell in  [m[i][j][0] for i in range(3) for j in range(3) if m[i][j][1]]:\n",
    "                moveMatrix  = tranzitie(list(list(row) for row in m), cell)\n",
    "\n",
    "                if verificare_stare_finala(moveMatrix):\n",
    "                    print(\"Ajuns la rezolvare prin pasii:\")\n",
    "                    print(moveList + [cell])\n",
    "                    return moveList + [cell]\n",
    "\n",
    "                nextStepDict[tuple(tuple(row) for row in moveMatrix )] = moveList + [cell]\n",
    "\n",
    "        nthStepDict = nextStepDict\n",
    "\n",
    "    print(\"Nu se poate rezolva în numărul dat de mișcări.\")\n",
    "    return [[(0, False) for i in range(3)] for j in range(3)]"
   ]
  },
  {
   "cell_type": "markdown",
   "metadata": {},
   "source": [
    "Testam codul pe cateva variante de joc generate si rezolavte de https://deniz.co/8-puzzle-solver/"
   ]
  },
  {
   "cell_type": "code",
   "execution_count": 30,
   "metadata": {},
   "outputs": [
    {
     "data": {
      "text/markdown": [
       "|<span style=\"color:red\">2</span> | <span style=\"color:red\">5</span> | <span style=\"color:red\">3</span> | <br>|<span style=\"color:red\">1</span> | <span style=\"color:green\">7</span> | <span style=\"color:red\">6</span> | <br>|<span style=\"color:green\">4</span> | 0 | <span style=\"color:green\">8</span> | <br>"
      ],
      "text/plain": [
       "<IPython.core.display.Markdown object>"
      ]
     },
     "metadata": {},
     "output_type": "display_data"
    },
    {
     "name": "stdout",
     "output_type": "stream",
     "text": [
      "Ajuns la rezolvare prin pasii:\n",
      "[7, 5, 2, 1, 4]\n"
     ]
    },
    {
     "data": {
      "text/markdown": [
       "|<span style=\"color:red\">1</span> | <span style=\"color:green\">5</span> | <span style=\"color:red\">2</span> | <br>|<span style=\"color:green\">7</span> | 0 | <span style=\"color:green\">4</span> | <br>|<span style=\"color:red\">8</span> | <span style=\"color:green\">6</span> | <span style=\"color:red\">3</span> | <br>"
      ],
      "text/plain": [
       "<IPython.core.display.Markdown object>"
      ]
     },
     "metadata": {},
     "output_type": "display_data"
    },
    {
     "name": "stdout",
     "output_type": "stream",
     "text": [
      "Ajuns la rezolvare prin pasii:\n",
      "[4, 3, 6, 8, 7, 4, 5, 2, 3, 6]\n"
     ]
    },
    {
     "data": {
      "text/markdown": [
       "|<span style=\"color:red\">8</span> | <span style=\"color:red\">6</span> | <span style=\"color:red\">7</span> | <br>|<span style=\"color:green\">2</span> | <span style=\"color:red\">5</span> | <span style=\"color:red\">4</span> | <br>|0 | <span style=\"color:green\">3</span> | <span style=\"color:red\">1</span> | <br>"
      ],
      "text/plain": [
       "<IPython.core.display.Markdown object>"
      ]
     },
     "metadata": {},
     "output_type": "display_data"
    },
    {
     "name": "stdout",
     "output_type": "stream",
     "text": [
      "Ajuns la rezolvare prin pasii:\n",
      "[2, 8, 6, 5, 3, 1, 4, 7, 5, 3, 1, 2, 8, 6, 3, 1, 2, 8, 6, 3, 1, 2, 7, 4, 8, 7, 4, 5]\n"
     ]
    },
    {
     "data": {
      "text/markdown": [
       "|<span style=\"color:green\">2</span> | <span style=\"color:red\">7</span> | <span style=\"color:red\">5</span> | <br>|0 | <span style=\"color:green\">8</span> | <span style=\"color:red\">4</span> | <br>|<span style=\"color:green\">3</span> | <span style=\"color:red\">1</span> | <span style=\"color:red\">6</span> | <br>"
      ],
      "text/plain": [
       "<IPython.core.display.Markdown object>"
      ]
     },
     "metadata": {},
     "output_type": "display_data"
    },
    {
     "name": "stdout",
     "output_type": "stream",
     "text": [
      "Ajuns la rezolvare prin pasii:\n",
      "[2, 7, 5, 4, 8, 1, 6, 8, 4, 5, 1, 2, 7, 1, 2, 7, 3, 6, 7, 4, 5]\n"
     ]
    },
    {
     "data": {
      "text/plain": [
       "[2, 7, 5, 4, 8, 1, 6, 8, 4, 5, 1, 2, 7, 1, 2, 7, 3, 6, 7, 4, 5]"
      ]
     },
     "execution_count": 30,
     "metadata": {},
     "output_type": "execute_result"
    }
   ],
   "source": [
    "#253176408 cu solutia : 7, 5, 2, 1, 4, 7, 8\n",
    "stateList = [2, 5, 3, 1, 7, 6, 4, 0, 8]\n",
    "matrix = model_problem(stateList)\n",
    "print_game(matrix)\n",
    "IDDFS_search(matrix, 10)\n",
    " \n",
    "#152704863 cu solutia : 4, 3, 6, 8, 7, 4, 5, 2, 3, 6\n",
    "stateList = [1, 5, 2, 7, 0, 4, 8, 6, 3]\n",
    "matrix = model_problem(stateList)\n",
    "print_game(matrix)\n",
    "IDDFS_search(matrix, 10)\n",
    "\n",
    "#152704863 cu solutia : 4, 3, 6, 8, 7, 4, 5, 2, 3, 6\n",
    "stateList = [8, 6, 7, 2, 5, 4, 0, 3, 1]\n",
    "matrix = model_problem(stateList)\n",
    "print_game(matrix)\n",
    "IDDFS_search(matrix, 100)\n",
    "\n",
    "#152704863 cu solutia : 4, 3, 6, 8, 7, 4, 5, 2, 3, 6\n",
    "stateList = [2, 7, 5, 0, 8, 4, 3, 1, 6]\n",
    "matrix = model_problem(stateList)\n",
    "print_game(matrix)\n",
    "IDDFS_search(matrix, 100)\n"
   ]
  },
  {
   "cell_type": "code",
   "execution_count": 296,
   "metadata": {},
   "outputs": [],
   "source": [
    "def manhattan_distance(matrix):\n",
    "    distance = 0\n",
    "    for i in range(3):\n",
    "        for j in range(3):\n",
    "            if matrix[i][j][0] != 0:\n",
    "                x, y = (matrix[i][j][0] - 1) // 3, (matrix[i][j][0] - 1) % 3\n",
    "                distance += abs(x - i) + abs(y - j)\n",
    "    return distance\n",
    "\n",
    "def greedy_manhattan(matrice):\n",
    "    moves = []\n",
    "    while not verificare_stare_finala(matrice):\n",
    "        min_distance = float('inf')\n",
    "        cell = [matrice[i][j][0] for i in range(3) for j in range(3) if matrice[i][j][1]][-1]\n",
    "        for c in [matrice[i][j][0] for i in range(3) for j in range(3) if matrice[i][j][1]]:\n",
    "            distance = manhattan_distance(tranzitie(matrice, c))\n",
    "            if distance < min_distance:\n",
    "                reserve = cell\n",
    "                min_distance = distance\n",
    "                cell = c\n",
    "        if len(moves) > 10:\n",
    "            for i in range(2, 10):\n",
    "                rep = []\n",
    "                for _ in range(i):\n",
    "                    rep += moves[-i:]\n",
    "                if(moves[-i*i:] == rep and reserve != 0):\n",
    "                    del moves[-i*i:]\n",
    "                    print(\"replace was made\")\n",
    "                    print(cell, reserve)\n",
    "                    cell = reserve\n",
    "        # print(cell)\n",
    "        matrice = tranzitie(matrice, cell)\n",
    "        moves.append(cell)\n",
    "    print(moves)\n",
    "    print(len(moves))\n",
    "    return moves"
   ]
  },
  {
   "cell_type": "code",
   "execution_count": 297,
   "metadata": {},
   "outputs": [
    {
     "data": {
      "text/markdown": [
       "|<span style=\"color:red\">2</span> | <span style=\"color:red\">5</span> | <span style=\"color:red\">3</span> | <br>|<span style=\"color:red\">1</span> | <span style=\"color:green\">7</span> | <span style=\"color:red\">6</span> | <br>|<span style=\"color:green\">4</span> | 0 | <span style=\"color:green\">8</span> | <br>"
      ],
      "text/plain": [
       "<IPython.core.display.Markdown object>"
      ]
     },
     "metadata": {},
     "output_type": "display_data"
    },
    {
     "data": {
      "text/markdown": [
       "|<span style=\"color:red\">1</span> | <span style=\"color:green\">5</span> | <span style=\"color:red\">2</span> | <br>|<span style=\"color:green\">7</span> | 0 | <span style=\"color:green\">4</span> | <br>|<span style=\"color:red\">8</span> | <span style=\"color:green\">6</span> | <span style=\"color:red\">3</span> | <br>"
      ],
      "text/plain": [
       "<IPython.core.display.Markdown object>"
      ]
     },
     "metadata": {},
     "output_type": "display_data"
    },
    {
     "data": {
      "text/markdown": [
       "|<span style=\"color:red\">8</span> | <span style=\"color:red\">6</span> | <span style=\"color:red\">7</span> | <br>|<span style=\"color:green\">2</span> | <span style=\"color:red\">5</span> | <span style=\"color:red\">4</span> | <br>|0 | <span style=\"color:green\">3</span> | <span style=\"color:red\">1</span> | <br>"
      ],
      "text/plain": [
       "<IPython.core.display.Markdown object>"
      ]
     },
     "metadata": {},
     "output_type": "display_data"
    },
    {
     "data": {
      "text/markdown": [
       "|<span style=\"color:green\">2</span> | <span style=\"color:red\">7</span> | <span style=\"color:red\">5</span> | <br>|0 | <span style=\"color:green\">8</span> | <span style=\"color:red\">4</span> | <br>|<span style=\"color:green\">3</span> | <span style=\"color:red\">1</span> | <span style=\"color:red\">6</span> | <br>"
      ],
      "text/plain": [
       "<IPython.core.display.Markdown object>"
      ]
     },
     "metadata": {},
     "output_type": "display_data"
    },
    {
     "name": "stdout",
     "output_type": "stream",
     "text": [
      "replace was made\n",
      "2 6\n",
      "replace was made\n",
      "2 3\n"
     ]
    },
    {
     "ename": "KeyboardInterrupt",
     "evalue": "",
     "output_type": "error",
     "traceback": [
      "\u001b[1;31m---------------------------------------------------------------------------\u001b[0m",
      "\u001b[1;31mKeyboardInterrupt\u001b[0m                         Traceback (most recent call last)",
      "\u001b[1;32mc:\\Users\\Iustina\\Documents\\GitHub\\labs-ai\\tema1\\tema1.ipynb Cell 17\u001b[0m line \u001b[0;36m1\n\u001b[0;32m     <a href='vscode-notebook-cell:/c%3A/Users/Iustina/Documents/GitHub/labs-ai/tema1/tema1.ipynb#X22sZmlsZQ%3D%3D?line=16'>17</a>\u001b[0m matrix \u001b[39m=\u001b[39m model_problem(stateList)\n\u001b[0;32m     <a href='vscode-notebook-cell:/c%3A/Users/Iustina/Documents/GitHub/labs-ai/tema1/tema1.ipynb#X22sZmlsZQ%3D%3D?line=17'>18</a>\u001b[0m print_game(matrix)\n\u001b[1;32m---> <a href='vscode-notebook-cell:/c%3A/Users/Iustina/Documents/GitHub/labs-ai/tema1/tema1.ipynb#X22sZmlsZQ%3D%3D?line=18'>19</a>\u001b[0m greedy_manhattan(matrix)\n",
      "\u001b[1;32mc:\\Users\\Iustina\\Documents\\GitHub\\labs-ai\\tema1\\tema1.ipynb Cell 17\u001b[0m line \u001b[0;36m1\n\u001b[0;32m     <a href='vscode-notebook-cell:/c%3A/Users/Iustina/Documents/GitHub/labs-ai/tema1/tema1.ipynb#X22sZmlsZQ%3D%3D?line=13'>14</a>\u001b[0m cell \u001b[39m=\u001b[39m [matrice[i][j][\u001b[39m0\u001b[39m] \u001b[39mfor\u001b[39;00m i \u001b[39min\u001b[39;00m \u001b[39mrange\u001b[39m(\u001b[39m3\u001b[39m) \u001b[39mfor\u001b[39;00m j \u001b[39min\u001b[39;00m \u001b[39mrange\u001b[39m(\u001b[39m3\u001b[39m) \u001b[39mif\u001b[39;00m matrice[i][j][\u001b[39m1\u001b[39m]][\u001b[39m-\u001b[39m\u001b[39m1\u001b[39m]\n\u001b[0;32m     <a href='vscode-notebook-cell:/c%3A/Users/Iustina/Documents/GitHub/labs-ai/tema1/tema1.ipynb#X22sZmlsZQ%3D%3D?line=14'>15</a>\u001b[0m \u001b[39mfor\u001b[39;00m c \u001b[39min\u001b[39;00m [matrice[i][j][\u001b[39m0\u001b[39m] \u001b[39mfor\u001b[39;00m i \u001b[39min\u001b[39;00m \u001b[39mrange\u001b[39m(\u001b[39m3\u001b[39m) \u001b[39mfor\u001b[39;00m j \u001b[39min\u001b[39;00m \u001b[39mrange\u001b[39m(\u001b[39m3\u001b[39m) \u001b[39mif\u001b[39;00m matrice[i][j][\u001b[39m1\u001b[39m]]:\n\u001b[1;32m---> <a href='vscode-notebook-cell:/c%3A/Users/Iustina/Documents/GitHub/labs-ai/tema1/tema1.ipynb#X22sZmlsZQ%3D%3D?line=15'>16</a>\u001b[0m     distance \u001b[39m=\u001b[39m manhattan_distance(tranzitie(matrice, c))\n\u001b[0;32m     <a href='vscode-notebook-cell:/c%3A/Users/Iustina/Documents/GitHub/labs-ai/tema1/tema1.ipynb#X22sZmlsZQ%3D%3D?line=16'>17</a>\u001b[0m     \u001b[39mif\u001b[39;00m distance \u001b[39m<\u001b[39m min_distance:\n\u001b[0;32m     <a href='vscode-notebook-cell:/c%3A/Users/Iustina/Documents/GitHub/labs-ai/tema1/tema1.ipynb#X22sZmlsZQ%3D%3D?line=17'>18</a>\u001b[0m         reserve \u001b[39m=\u001b[39m cell\n",
      "\u001b[1;32mc:\\Users\\Iustina\\Documents\\GitHub\\labs-ai\\tema1\\tema1.ipynb Cell 17\u001b[0m line \u001b[0;36m7\n\u001b[0;32m      <a href='vscode-notebook-cell:/c%3A/Users/Iustina/Documents/GitHub/labs-ai/tema1/tema1.ipynb#X22sZmlsZQ%3D%3D?line=5'>6</a>\u001b[0m \u001b[39mdef\u001b[39;00m \u001b[39mtranzitie\u001b[39m(matrice, n):\n\u001b[1;32m----> <a href='vscode-notebook-cell:/c%3A/Users/Iustina/Documents/GitHub/labs-ai/tema1/tema1.ipynb#X22sZmlsZQ%3D%3D?line=6'>7</a>\u001b[0m     m \u001b[39m=\u001b[39m copy\u001b[39m.\u001b[39;49mdeepcopy(matrice)\n\u001b[0;32m      <a href='vscode-notebook-cell:/c%3A/Users/Iustina/Documents/GitHub/labs-ai/tema1/tema1.ipynb#X22sZmlsZQ%3D%3D?line=7'>8</a>\u001b[0m     i, j \u001b[39m=\u001b[39m find_positions(matrice, n)\n\u001b[0;32m      <a href='vscode-notebook-cell:/c%3A/Users/Iustina/Documents/GitHub/labs-ai/tema1/tema1.ipynb#X22sZmlsZQ%3D%3D?line=8'>9</a>\u001b[0m     i0, j0 \u001b[39m=\u001b[39m find_zero(matrice)\n",
      "File \u001b[1;32mC:\\Program Files\\WindowsApps\\PythonSoftwareFoundation.Python.3.10_3.10.3056.0_x64__qbz5n2kfra8p0\\lib\\copy.py:146\u001b[0m, in \u001b[0;36mdeepcopy\u001b[1;34m(x, memo, _nil)\u001b[0m\n\u001b[0;32m    144\u001b[0m copier \u001b[39m=\u001b[39m _deepcopy_dispatch\u001b[39m.\u001b[39mget(\u001b[39mcls\u001b[39m)\n\u001b[0;32m    145\u001b[0m \u001b[39mif\u001b[39;00m copier \u001b[39mis\u001b[39;00m \u001b[39mnot\u001b[39;00m \u001b[39mNone\u001b[39;00m:\n\u001b[1;32m--> 146\u001b[0m     y \u001b[39m=\u001b[39m copier(x, memo)\n\u001b[0;32m    147\u001b[0m \u001b[39melse\u001b[39;00m:\n\u001b[0;32m    148\u001b[0m     \u001b[39mif\u001b[39;00m \u001b[39missubclass\u001b[39m(\u001b[39mcls\u001b[39m, \u001b[39mtype\u001b[39m):\n",
      "File \u001b[1;32mC:\\Program Files\\WindowsApps\\PythonSoftwareFoundation.Python.3.10_3.10.3056.0_x64__qbz5n2kfra8p0\\lib\\copy.py:206\u001b[0m, in \u001b[0;36m_deepcopy_list\u001b[1;34m(x, memo, deepcopy)\u001b[0m\n\u001b[0;32m    204\u001b[0m append \u001b[39m=\u001b[39m y\u001b[39m.\u001b[39mappend\n\u001b[0;32m    205\u001b[0m \u001b[39mfor\u001b[39;00m a \u001b[39min\u001b[39;00m x:\n\u001b[1;32m--> 206\u001b[0m     append(deepcopy(a, memo))\n\u001b[0;32m    207\u001b[0m \u001b[39mreturn\u001b[39;00m y\n",
      "File \u001b[1;32mC:\\Program Files\\WindowsApps\\PythonSoftwareFoundation.Python.3.10_3.10.3056.0_x64__qbz5n2kfra8p0\\lib\\copy.py:146\u001b[0m, in \u001b[0;36mdeepcopy\u001b[1;34m(x, memo, _nil)\u001b[0m\n\u001b[0;32m    144\u001b[0m copier \u001b[39m=\u001b[39m _deepcopy_dispatch\u001b[39m.\u001b[39mget(\u001b[39mcls\u001b[39m)\n\u001b[0;32m    145\u001b[0m \u001b[39mif\u001b[39;00m copier \u001b[39mis\u001b[39;00m \u001b[39mnot\u001b[39;00m \u001b[39mNone\u001b[39;00m:\n\u001b[1;32m--> 146\u001b[0m     y \u001b[39m=\u001b[39m copier(x, memo)\n\u001b[0;32m    147\u001b[0m \u001b[39melse\u001b[39;00m:\n\u001b[0;32m    148\u001b[0m     \u001b[39mif\u001b[39;00m \u001b[39missubclass\u001b[39m(\u001b[39mcls\u001b[39m, \u001b[39mtype\u001b[39m):\n",
      "File \u001b[1;32mC:\\Program Files\\WindowsApps\\PythonSoftwareFoundation.Python.3.10_3.10.3056.0_x64__qbz5n2kfra8p0\\lib\\copy.py:206\u001b[0m, in \u001b[0;36m_deepcopy_list\u001b[1;34m(x, memo, deepcopy)\u001b[0m\n\u001b[0;32m    204\u001b[0m append \u001b[39m=\u001b[39m y\u001b[39m.\u001b[39mappend\n\u001b[0;32m    205\u001b[0m \u001b[39mfor\u001b[39;00m a \u001b[39min\u001b[39;00m x:\n\u001b[1;32m--> 206\u001b[0m     append(deepcopy(a, memo))\n\u001b[0;32m    207\u001b[0m \u001b[39mreturn\u001b[39;00m y\n",
      "File \u001b[1;32mC:\\Program Files\\WindowsApps\\PythonSoftwareFoundation.Python.3.10_3.10.3056.0_x64__qbz5n2kfra8p0\\lib\\copy.py:146\u001b[0m, in \u001b[0;36mdeepcopy\u001b[1;34m(x, memo, _nil)\u001b[0m\n\u001b[0;32m    144\u001b[0m copier \u001b[39m=\u001b[39m _deepcopy_dispatch\u001b[39m.\u001b[39mget(\u001b[39mcls\u001b[39m)\n\u001b[0;32m    145\u001b[0m \u001b[39mif\u001b[39;00m copier \u001b[39mis\u001b[39;00m \u001b[39mnot\u001b[39;00m \u001b[39mNone\u001b[39;00m:\n\u001b[1;32m--> 146\u001b[0m     y \u001b[39m=\u001b[39m copier(x, memo)\n\u001b[0;32m    147\u001b[0m \u001b[39melse\u001b[39;00m:\n\u001b[0;32m    148\u001b[0m     \u001b[39mif\u001b[39;00m \u001b[39missubclass\u001b[39m(\u001b[39mcls\u001b[39m, \u001b[39mtype\u001b[39m):\n",
      "File \u001b[1;32mC:\\Program Files\\WindowsApps\\PythonSoftwareFoundation.Python.3.10_3.10.3056.0_x64__qbz5n2kfra8p0\\lib\\copy.py:210\u001b[0m, in \u001b[0;36m_deepcopy_tuple\u001b[1;34m(x, memo, deepcopy)\u001b[0m\n\u001b[0;32m    207\u001b[0m     \u001b[39mreturn\u001b[39;00m y\n\u001b[0;32m    208\u001b[0m d[\u001b[39mlist\u001b[39m] \u001b[39m=\u001b[39m _deepcopy_list\n\u001b[1;32m--> 210\u001b[0m \u001b[39mdef\u001b[39;00m \u001b[39m_deepcopy_tuple\u001b[39m(x, memo, deepcopy\u001b[39m=\u001b[39mdeepcopy):\n\u001b[0;32m    211\u001b[0m     y \u001b[39m=\u001b[39m [deepcopy(a, memo) \u001b[39mfor\u001b[39;00m a \u001b[39min\u001b[39;00m x]\n\u001b[0;32m    212\u001b[0m     \u001b[39m# We're not going to put the tuple in the memo, but it's still important we\u001b[39;00m\n\u001b[0;32m    213\u001b[0m     \u001b[39m# check for it, in case the tuple contains recursive mutable structures.\u001b[39;00m\n",
      "\u001b[1;31mKeyboardInterrupt\u001b[0m: "
     ]
    }
   ],
   "source": [
    "stateList = [2, 5, 3, 1, 7, 6, 4, 0, 8]\n",
    "matrix = model_problem(stateList)\n",
    "print_game(matrix)\n",
    "#greedy_manhattan(matrix)\n",
    " \n",
    "stateList = [1, 5, 2, 7, 0, 4, 8, 6, 3]\n",
    "matrix = model_problem(stateList)\n",
    "print_game(matrix)\n",
    "#greedy_manhattan(matrix)\n",
    "\n",
    "stateList = [8, 6, 7, 2, 5, 4, 0, 3, 1]\n",
    "matrix = model_problem(stateList)\n",
    "print_game(matrix)\n",
    "#greedy_manhattan(matrix)\n",
    "\n",
    "stateList = [2, 7, 5, 0, 8, 4, 3, 1, 6]\n",
    "matrix = model_problem(stateList)\n",
    "print_game(matrix)\n",
    "greedy_manhattan(matrix)"
   ]
  },
  {
   "cell_type": "code",
   "execution_count": 246,
   "metadata": {},
   "outputs": [
    {
     "name": "stdout",
     "output_type": "stream",
     "text": [
      "17\n",
      "[12, 13, 14]\n"
     ]
    }
   ],
   "source": [
    "list = [1,2,3,4,5,6,7,8,9,0,11,12,13,14,15,16,17]\n",
    "print(list[-1])\n",
    "\n",
    "print(list[-6:-3])"
   ]
  }
 ],
 "metadata": {
  "kernelspec": {
   "display_name": "Python 3",
   "language": "python",
   "name": "python3"
  },
  "language_info": {
   "codemirror_mode": {
    "name": "ipython",
    "version": 3
   },
   "file_extension": ".py",
   "mimetype": "text/x-python",
   "name": "python",
   "nbconvert_exporter": "python",
   "pygments_lexer": "ipython3",
   "version": "3.10.11"
  }
 },
 "nbformat": 4,
 "nbformat_minor": 2
}
